{
  "nbformat": 4,
  "nbformat_minor": 0,
  "metadata": {
    "colab": {
      "name": "Tweepy_3.ipynb",
      "provenance": [],
      "collapsed_sections": [],
      "authorship_tag": "ABX9TyMx/llvtliyNNaeOqyvNaMY",
      "include_colab_link": true
    },
    "kernelspec": {
      "name": "python3",
      "display_name": "Python 3"
    },
    "language_info": {
      "name": "python"
    }
  },
  "cells": [
    {
      "cell_type": "markdown",
      "metadata": {
        "id": "view-in-github",
        "colab_type": "text"
      },
      "source": [
        "<a href=\"https://colab.research.google.com/github/JF11579/Colab/blob/main/Tweepy_3.ipynb\" target=\"_parent\"><img src=\"https://colab.research.google.com/assets/colab-badge.svg\" alt=\"Open In Colab\"/></a>"
      ]
    },
    {
      "cell_type": "code",
      "metadata": {
        "id": "13lSqQgs2ylD"
      },
      "source": [
        ""
      ],
      "execution_count": null,
      "outputs": []
    },
    {
      "cell_type": "markdown",
      "metadata": {
        "id": "yUawe2Z223TX"
      },
      "source": [
        "Let us take a lookat a who has been tweeting about Where Is My Land. First of all we will search in [Google Trends](https://trends.google.com/trends/explore?q=Where%20is%20my%20land&geo=US) to see where the term is being searched.  \n",
        "\n"
      ]
    },
    {
      "cell_type": "markdown",
      "metadata": {
        "id": "SlmqZN3gAClm"
      },
      "source": [
        "## First some admin chores...."
      ]
    },
    {
      "cell_type": "code",
      "metadata": {
        "id": "ow_6U_6m4MYp"
      },
      "source": [
        "#First some admin stuff\n",
        "import tweepy\n",
        "consumer_key = \"XzFJj9TSSULkqUNM158SblatG\"\n",
        "consumer_secret = \"SVuEZOu1dRWs8fyX7PIaCTvp0zr3uVGSFHOfqQRxZ5tspHlKQK\"\n",
        "access_token = \"518106503-GuTw9Qs5mMeGPi8xvEmeawCqdjJ0f4x5gInG4dKY\"\n",
        "access_token_secret = \"PyYCrLr0ccZj62749Xp2i57Cf5scyYHXZ1gnKhLiXVloZ\""
      ],
      "execution_count": 20,
      "outputs": []
    },
    {
      "cell_type": "code",
      "metadata": {
        "id": "N1e5E8x34hIQ"
      },
      "source": [
        "# Creating the authentication object\n",
        "auth = tweepy.OAuthHandler(consumer_key, consumer_secret)\n",
        "# Setting your access token and secret\n",
        "auth.set_access_token(access_token, access_token_secret)\n",
        "# Creating the API object while passing in auth information\n",
        "api = tweepy.API(auth)\n",
        "# Language code (follows ISO 639-1 standards)\n",
        "language = \"en\""
      ],
      "execution_count": 21,
      "outputs": []
    },
    {
      "cell_type": "code",
      "metadata": {
        "id": "SbNeDd-E4g9n"
      },
      "source": [
        ""
      ],
      "execution_count": null,
      "outputs": []
    },
    {
      "cell_type": "markdown",
      "metadata": {
        "id": "R8SLkfyNAIHW"
      },
      "source": [
        "## Let us search by topic, specifically *Where is My Land*"
      ]
    },
    {
      "cell_type": "code",
      "metadata": {
        "colab": {
          "base_uri": "https://localhost:8080/"
        },
        "id": "BsAlBuDe12g4",
        "outputId": "d85b69f1-8b4f-451b-8899-267fb3434c36"
      },
      "source": [
        "############################################\n",
        "###### SEARCH TWITTER BY KEYWORD  ##########\n",
        "############################################\n",
        "#\n",
        "# Creating the API object while passing in auth information\n",
        "api = tweepy.API(auth)\n",
        "\n",
        "# The search term you want to find\n",
        "query = \"WhereIsMyLand\" # <<<<<<<---------------------------------Change Keyword HERE\n",
        "#query = \"DEEPSTATE\"\n",
        "# Language code (follows ISO 639-1 standards)\n",
        "language = \"en\"\n",
        "\n",
        "# Calling the user_timeline function with our parameters\n",
        "results = api.search(q=query, lang=language)\n",
        "\n",
        "# foreach through all tweets pulled\n",
        "for tweet in results:\n",
        "   # printing the text stored inside the tweet object\n",
        "   print (tweet.user.screen_name,\"Tweeted:\",tweet.text)"
      ],
      "execution_count": 22,
      "outputs": [
        {
          "output_type": "stream",
          "name": "stdout",
          "text": [
            "Aleksan59009977 Tweeted: RT @ArevaMartin: Black peoples’ land was stolen.  Advocates &amp; lawmakers are taking steps to return it. Is the return of a $75M beach to a C…\n",
            "Veeter5 Tweeted: RT @ArevaMartin: Black peoples’ land was stolen.  Advocates &amp; lawmakers are taking steps to return it. Is the return of a $75M beach to a C…\n",
            "grek19788 Tweeted: RT @ArevaMartin: Black peoples’ land was stolen.  Advocates &amp; lawmakers are taking steps to return it. Is the return of a $75M beach to a C…\n",
            "HLifDNQneZSLGbI Tweeted: RT @ArevaMartin: Black peoples’ land was stolen.  Advocates &amp; lawmakers are taking steps to return it. Is the return of a $75M beach to a C…\n",
            "1985Level Tweeted: RT @ArevaMartin: Black peoples’ land was stolen.  Advocates &amp; lawmakers are taking steps to return it. Is the return of a $75M beach to a C…\n",
            "Costar07 Tweeted: RT @ArevaMartin: Black peoples’ land was stolen.  Advocates &amp; lawmakers are taking steps to return it. Is the return of a $75M beach to a C…\n",
            "HelperStream Tweeted: RT @ArevaMartin: Black peoples’ land was stolen.  Advocates &amp; lawmakers are taking steps to return it. Is the return of a $75M beach to a C…\n",
            "Stanch95689874 Tweeted: RT @ArevaMartin: Black peoples’ land was stolen.  Advocates &amp; lawmakers are taking steps to return it. Is the return of a $75M beach to a C…\n",
            "AsiaGirls3 Tweeted: RT @ArevaMartin: Black peoples’ land was stolen.  Advocates &amp; lawmakers are taking steps to return it. Is the return of a $75M beach to a C…\n",
            "Olaola97888514 Tweeted: RT @ArevaMartin: Black peoples’ land was stolen.  Advocates &amp; lawmakers are taking steps to return it. Is the return of a $75M beach to a C…\n",
            "Ustyganin34 Tweeted: RT @ArevaMartin: Black peoples’ land was stolen.  Advocates &amp; lawmakers are taking steps to return it. Is the return of a $75M beach to a C…\n",
            "qJ1iHhQKXGRx51Q Tweeted: RT @ArevaMartin: Black peoples’ land was stolen.  Advocates &amp; lawmakers are taking steps to return it. Is the return of a $75M beach to a C…\n",
            "ArevaMartin Tweeted: Black peoples’ land was stolen.  Advocates &amp; lawmakers are taking steps to return it. Is the return of a $75M beach… https://t.co/gSt4YbwPiV\n",
            "DanegroQ Tweeted: RT @IAMFridayJones: Descendant communuty - Please follow this account.\n",
            "FB1 Freedman ADOS DOAS BADOCS\n"
          ]
        }
      ]
    },
    {
      "cell_type": "markdown",
      "metadata": {
        "id": "ABDU4wo45E5c"
      },
      "source": [
        "## Next we  will look at what else what someone who tweeted about the DEEPSTATE tweeted. "
      ]
    },
    {
      "cell_type": "code",
      "metadata": {
        "colab": {
          "base_uri": "https://localhost:8080/"
        },
        "id": "hJLM-XG-0TzF",
        "outputId": "0b315a76-dc72-44d1-b7d6-716e4056545a"
      },
      "source": [
        "##################################################\n",
        "#######  SEARCH TWEETS BY TWEETER ################\n",
        "##################################################\n",
        "\n",
        "# Creating the API object while passing in auth information\n",
        "api = tweepy.API(auth)\n",
        "\n",
        "# The Twitter user who we want to get tweets from\n",
        "#name = \"nytimes\"\n",
        "name = \"ArevaMartin\"  # <<<--------------------------- change name here\n",
        "#name = \"djlavoie\" \n",
        "# Number of tweets to pull\n",
        "tweetCount = 20\n",
        "\n",
        "# Calling the user_timeline function with our parameters\n",
        "results = api.user_timeline(id=name, count=tweetCount)\n",
        "\n",
        "# foreach through all tweets pulled\n",
        "for tweet in results:\n",
        "   # printing the text stored inside the tweet object\n",
        "   print(tweet.text)"
      ],
      "execution_count": 23,
      "outputs": [
        {
          "output_type": "stream",
          "name": "stdout",
          "text": [
            "Black peoples’ land was stolen.  Advocates &amp; lawmakers are taking steps to return it. Is the return of a $75M beach… https://t.co/gSt4YbwPiV\n",
            "RT @mridleythomas: 🗣LITERACY IN THE VILLAGE: LPV Book Fair Celebrates 14th Year. Featuring ⁦@ArevaMartin⁩ and ⁦@NikkiGiovanni6⁩ Proud to ag…\n",
            "Dreams do come true!!!! Super excited about being this year’s #LeimertPark Ambassador. Dont miss out. Your fav auth… https://t.co/hAx9IHu8oW\n",
            "@arnold_philip @RitaFullerYates @religionSU Thank you for your incredible work! #IndigenousPeoplesDay\n",
            "RT @arnold_philip: @ArevaMartin @RitaFullerYates @religionSU Great conversation with @ArevaMartin\n",
            "Who is Christopher Columbus really? And is he someone we should celebrate or abhor? Did Biden go far enough in ackn… https://t.co/UhqZQfe0hW\n",
            "Today is #WorldMentalHealthDay There is no shame in seeking care are admitting you suffer from #mentalillness. When… https://t.co/C3JiPwMZjX\n",
            "Bravo @asmgarcia for schooling men on the fact that a tampon is not a luxury item but a necessity like toilet paper… https://t.co/uqiEgmvcOi\n",
            "@caroldanielKMOX @kbla1580 @CodieElaine @blacklovedoc @OWNTV Hey Carol you can catch the show online on the… https://t.co/03lhqOC62a\n",
            "Where is the mystery dinner @LeDinerEnBlanc #DinerEnBlanc #palmsprings https://t.co/m6aLL0vMib\n",
            "Today it’s all about love on my new  show #ArevaMartinOutLoud on @kbla1580 at 10am PST Guests #DrDianeStewart and… https://t.co/HtpCLU8ist\n",
            "RT @ArevaMartin: What’s really keeping #BlackWomen up at night? My debut talk show Areva Martin Out Loud on @kbla1580 was amazing because o…\n",
            "BREAKING: Convictions in the #VarsityBlues college admissions scandal of two parents who tried to pay their kids’ w… https://t.co/9isLZHQqHN\n",
            "Are you a nerd? Find out from the creators of the uber popular website and authors of the new book… https://t.co/7T0ar2EX8q\n",
            "RT @kbla1580: LEIMERT PARK VILLAGE BOOK FAIR ANNOUNCES CIVIL RIGHTS ATTORNEY &amp; MEDIA PERSONALITY AREVA MARTIN AS THE 2021 LEIMERT PARK VILL…\n",
            "Super excited to launch my new book #Awakening with the ultimate female brand @aliceandolivia on Wed Oct 20 at thei… https://t.co/DmYxIIgv4V\n",
            "@ItsMarcus14 Thx you!!!!\n",
            "@djtee4426 Scary!!!!!!\n",
            "RT @LGBTCenterNYC: Join us LIVE with Trevon Mayers, a special guest on \"The Special Report with @ArevaMartin\" discussing @LilNasX and his m…\n",
            "Is 22 year old Grammy Award-winning openly gay artist ⁦@LilNasX⁩ upending hip hop’s definition of Black male mascul… https://t.co/UdHNHHGcLf\n"
          ]
        }
      ]
    },
    {
      "cell_type": "markdown",
      "metadata": {
        "id": "8K6AAaH0DVUb"
      },
      "source": [
        "### The output could probably be cleaned up in a spreadsheet format.\n",
        "\n",
        "### And  the tweeter's location is known so  trends can be shown to spread across the country,etc"
      ]
    }
  ]
}