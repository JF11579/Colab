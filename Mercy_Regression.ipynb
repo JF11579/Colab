{
  "nbformat": 4,
  "nbformat_minor": 0,
  "metadata": {
    "colab": {
      "provenance": [],
      "authorship_tag": "ABX9TyPqV3GwWrUKwAubg9CKLm9i",
      "include_colab_link": true
    },
    "kernelspec": {
      "name": "ir",
      "display_name": "R"
    },
    "language_info": {
      "name": "R"
    }
  },
  "cells": [
    {
      "cell_type": "markdown",
      "metadata": {
        "id": "view-in-github",
        "colab_type": "text"
      },
      "source": [
        "<a href=\"https://colab.research.google.com/github/JF11579/Colab/blob/main/Mercy_Regression.ipynb\" target=\"_parent\"><img src=\"https://colab.research.google.com/assets/colab-badge.svg\" alt=\"Open In Colab\"/></a>"
      ]
    },
    {
      "cell_type": "markdown",
      "source": [
        "https:/colab.to/r"
      ],
      "metadata": {
        "id": "dF9W7Czdjrzk"
      }
    },
    {
      "cell_type": "markdown",
      "source": [
        "## Libraries"
      ],
      "metadata": {
        "id": "A-4AVjA_j6KH"
      }
    },
    {
      "cell_type": "code",
      "source": [
        "library(tidyverse)\n",
        "library(ggplot2)\n",
        "library(lubridate)\n",
        "install.packages(\"ggthemes\")\n",
        "library(ggthemes)\n",
        "install.packages(\"reshape2\") \n",
        "library(\"reshape2\") \n",
        "#install.packages(\"corrr\")\n",
        "#library(corrr)\n",
        "#nstall.packages('polycor')\n",
        "#library(polycor)\n",
        "#install.packages(c(\"AICcmodavg\"))\n",
        "#library(AICcmodavg)\n",
        "\n",
        "\n"
      ],
      "metadata": {
        "colab": {
          "base_uri": "https://localhost:8080/"
        },
        "id": "VImlzgfLj5i1",
        "outputId": "f514b6ef-c546-42d3-d10a-99788ef3a89b"
      },
      "execution_count": 6,
      "outputs": [
        {
          "output_type": "stream",
          "name": "stderr",
          "text": [
            "Warning message in system(\"timedatectl\", intern = TRUE):\n",
            "“running command 'timedatectl' had status 1”\n",
            "── \u001b[1mAttaching packages\u001b[22m ─────────────────────────────────────── tidyverse 1.3.1 ──\n",
            "\n",
            "\u001b[32m✔\u001b[39m \u001b[34mggplot2\u001b[39m 3.4.0      \u001b[32m✔\u001b[39m \u001b[34mpurrr  \u001b[39m 1.0.1 \n",
            "\u001b[32m✔\u001b[39m \u001b[34mtibble \u001b[39m 3.1.8      \u001b[32m✔\u001b[39m \u001b[34mdplyr  \u001b[39m 1.0.10\n",
            "\u001b[32m✔\u001b[39m \u001b[34mtidyr  \u001b[39m 1.3.0      \u001b[32m✔\u001b[39m \u001b[34mstringr\u001b[39m 1.4.1 \n",
            "\u001b[32m✔\u001b[39m \u001b[34mreadr  \u001b[39m 2.1.3      \u001b[32m✔\u001b[39m \u001b[34mforcats\u001b[39m 0.5.2 \n",
            "\n",
            "── \u001b[1mConflicts\u001b[22m ────────────────────────────────────────── tidyverse_conflicts() ──\n",
            "\u001b[31m✖\u001b[39m \u001b[34mdplyr\u001b[39m::\u001b[32mfilter()\u001b[39m masks \u001b[34mstats\u001b[39m::filter()\n",
            "\u001b[31m✖\u001b[39m \u001b[34mdplyr\u001b[39m::\u001b[32mlag()\u001b[39m    masks \u001b[34mstats\u001b[39m::lag()\n",
            "\n",
            "\n",
            "Attaching package: ‘lubridate’\n",
            "\n",
            "\n",
            "The following objects are masked from ‘package:base’:\n",
            "\n",
            "    date, intersect, setdiff, union\n",
            "\n",
            "\n",
            "Installing package into ‘/usr/local/lib/R/site-library’\n",
            "(as ‘lib’ is unspecified)\n",
            "\n",
            "Installing package into ‘/usr/local/lib/R/site-library’\n",
            "(as ‘lib’ is unspecified)\n",
            "\n",
            "also installing the dependencies ‘plyr’, ‘Rcpp’\n",
            "\n",
            "\n",
            "\n",
            "Attaching package: ‘reshape2’\n",
            "\n",
            "\n",
            "The following object is masked from ‘package:tidyr’:\n",
            "\n",
            "    smiths\n",
            "\n",
            "\n",
            "Installing package into ‘/usr/local/lib/R/site-library’\n",
            "(as ‘lib’ is unspecified)\n",
            "\n",
            "also installing the dependencies ‘iterators’, ‘foreach’, ‘TSP’, ‘qap’, ‘gclus’, ‘ca’, ‘registry’, ‘ggrepel’, ‘seriation’\n",
            "\n",
            "\n"
          ]
        }
      ]
    },
    {
      "cell_type": "code",
      "source": [
        "All_long <- melt(All)\n",
        "head(All_long , 4)\n"
      ],
      "metadata": {
        "colab": {
          "base_uri": "https://localhost:8080/",
          "height": 258
        },
        "id": "M4QkI6czLt9n",
        "outputId": "89f16e48-bf95-4d1b-9336-4cf3c45bdcfd"
      },
      "execution_count": 7,
      "outputs": [
        {
          "output_type": "stream",
          "name": "stderr",
          "text": [
            "Using , Race_Ethnicity as id variables\n",
            "\n"
          ]
        },
        {
          "output_type": "display_data",
          "data": {
            "text/html": [
              "<table class=\"dataframe\">\n",
              "<caption>A data.frame: 4 × 4</caption>\n",
              "<thead>\n",
              "\t<tr><th></th><th scope=col></th><th scope=col>Race_Ethnicity</th><th scope=col>variable</th><th scope=col>value</th></tr>\n",
              "\t<tr><th></th><th scope=col>&lt;chr&gt;</th><th scope=col>&lt;chr&gt;</th><th scope=col>&lt;fct&gt;</th><th scope=col>&lt;int&gt;</th></tr>\n",
              "</thead>\n",
              "<tbody>\n",
              "\t<tr><th scope=row>1</th><td>Median annual earnings, all\n",
              " education levels</td><td>White</td><td>1995</td><td>44130</td></tr>\n",
              "\t<tr><th scope=row>2</th><td>Less than high school completion              </td><td>White</td><td>1995</td><td>29680</td></tr>\n",
              "\t<tr><th scope=row>3</th><td>High school completion1                       </td><td>White</td><td>1995</td><td>37260</td></tr>\n",
              "\t<tr><th scope=row>4</th><td>Some college, no degree                       </td><td>White</td><td>1995</td><td>40930</td></tr>\n",
              "</tbody>\n",
              "</table>\n"
            ],
            "text/markdown": "\nA data.frame: 4 × 4\n\n| <!--/--> | <!----> &lt;chr&gt; | Race_Ethnicity &lt;chr&gt; | variable &lt;fct&gt; | value &lt;int&gt; |\n|---|---|---|---|---|\n| 1 | Median annual earnings, all\n education levels | White | 1995 | 44130 |\n| 2 | Less than high school completion               | White | 1995 | 29680 |\n| 3 | High school completion1                        | White | 1995 | 37260 |\n| 4 | Some college, no degree                        | White | 1995 | 40930 |\n\n",
            "text/latex": "A data.frame: 4 × 4\n\\begin{tabular}{r|llll}\n  &  & Race\\_Ethnicity & variable & value\\\\\n  & <chr> & <chr> & <fct> & <int>\\\\\n\\hline\n\t1 & Median annual earnings, all\n education levels & White & 1995 & 44130\\\\\n\t2 & Less than high school completion               & White & 1995 & 29680\\\\\n\t3 & High school completion1                        & White & 1995 & 37260\\\\\n\t4 & Some college, no degree                        & White & 1995 & 40930\\\\\n\\end{tabular}\n",
            "text/plain": [
              "                                                 Race_Ethnicity variable value\n",
              "1 Median annual earnings, all\\n education levels White          1995     44130\n",
              "2 Less than high school completion               White          1995     29680\n",
              "3 High school completion1                        White          1995     37260\n",
              "4 Some college, no degree                        White          1995     40930"
            ]
          },
          "metadata": {}
        }
      ]
    },
    {
      "cell_type": "markdown",
      "source": [
        "## Options"
      ],
      "metadata": {
        "id": "cRdb3Uvjj-IJ"
      }
    },
    {
      "cell_type": "code",
      "execution_count": null,
      "metadata": {
        "id": "XuFoP5HAjkto"
      },
      "outputs": [],
      "source": [
        "options(scipen=999)\n",
        "\n",
        "options(repr.plot.width=14, repr.plot.height=15)\n",
        "\n",
        "options(warn=-1)"
      ]
    },
    {
      "cell_type": "markdown",
      "source": [
        "## Data"
      ],
      "metadata": {
        "id": "PY65F9WNkQJD"
      }
    },
    {
      "cell_type": "markdown",
      "source": [
        "## Note\n",
        "\n",
        "Filter out for one edc level and then regress\n",
        "\n",
        "Put all income in single column, the Dependent column.  And in the independent columns place race, educatipn level.  WE can do this becasue the dollars are held constant at 2020 levels.\n",
        "\n",
        "It could be the case that this would benefit from a PAnel Study or time series appraoch:  Are the wage sfrom 2020 truel independent of the wages in 2019 and for that mattter 2018 and all of the preceeding years?  Probably not.  "
      ],
      "metadata": {
        "id": "yBmCwzpjkWKa"
      }
    },
    {
      "cell_type": "markdown",
      "source": [
        "### Since the dollars are held constat in 2020 we will drop the year for the moment (We will look at the data as a Panel Data later and need the years). We will also drop the rows labled *Median annual earnings, all education levels *there might be some heterona[sdpfgjk[adojf."
      ],
      "metadata": {
        "id": "aCYVWn7jP_Ou"
      }
    },
    {
      "cell_type": "code",
      "source": [
        "All <- read.csv(\"/content/Mercy_Digest 502.30_race,Edu_Income - Races_Comb.csv\" ,check.names = FALSE) "
      ],
      "metadata": {
        "id": "xcxq_rh4Ho15"
      },
      "execution_count": 2,
      "outputs": []
    },
    {
      "cell_type": "code",
      "source": [
        "head(All)"
      ],
      "metadata": {
        "colab": {
          "base_uri": "https://localhost:8080/",
          "height": 286
        },
        "id": "uObv5QYCLOPU",
        "outputId": "76cca33f-d3f6-4d52-ab7b-b5761961f166"
      },
      "execution_count": 3,
      "outputs": [
        {
          "output_type": "display_data",
          "data": {
            "text/html": [
              "<table class=\"dataframe\">\n",
              "<caption>A data.frame: 6 × 13</caption>\n",
              "<thead>\n",
              "\t<tr><th></th><th scope=col></th><th scope=col>Race_Ethnicity</th><th scope=col>1995</th><th scope=col>2000</th><th scope=col>2005</th><th scope=col>2010</th><th scope=col>2014</th><th scope=col>2015</th><th scope=col>2016</th><th scope=col>2017</th><th scope=col>2018</th><th scope=col>2019</th><th scope=col>2020</th></tr>\n",
              "\t<tr><th></th><th scope=col>&lt;chr&gt;</th><th scope=col>&lt;chr&gt;</th><th scope=col>&lt;int&gt;</th><th scope=col>&lt;int&gt;</th><th scope=col>&lt;int&gt;</th><th scope=col>&lt;int&gt;</th><th scope=col>&lt;int&gt;</th><th scope=col>&lt;int&gt;</th><th scope=col>&lt;int&gt;</th><th scope=col>&lt;int&gt;</th><th scope=col>&lt;int&gt;</th><th scope=col>&lt;int&gt;</th><th scope=col>&lt;int&gt;</th></tr>\n",
              "</thead>\n",
              "<tbody>\n",
              "\t<tr><th scope=row>1</th><td>Median annual earnings, all\n",
              " education levels</td><td>White</td><td>44130</td><td>48840</td><td>46380</td><td>47430</td><td>46450</td><td>49080</td><td>48420</td><td>48480</td><td>50430</td><td>50570</td><td>52750</td></tr>\n",
              "\t<tr><th scope=row>2</th><td>Less than high school completion              </td><td>White</td><td>29680</td><td>31300</td><td>30670</td><td>29660</td><td>31120</td><td>32540</td><td>31340</td><td>30930</td><td>36000</td><td>34400</td><td>33450</td></tr>\n",
              "\t<tr><th scope=row>3</th><td>High school completion1                       </td><td>White</td><td>37260</td><td>41450</td><td>39650</td><td>38600</td><td>36020</td><td>37750</td><td>37730</td><td>36950</td><td>38560</td><td>38940</td><td>39730</td></tr>\n",
              "\t<tr><th scope=row>4</th><td>Some college, no degree                       </td><td>White</td><td>40930</td><td>44940</td><td>42290</td><td>41310</td><td>38190</td><td>38140</td><td>38190</td><td>41000</td><td>39130</td><td>40470</td><td>41880</td></tr>\n",
              "\t<tr><th scope=row>5</th><td>Associate's degree                            </td><td>White</td><td>44170</td><td>47680</td><td>46370</td><td>47090</td><td>39960</td><td>42200</td><td>42800</td><td>42220</td><td>44040</td><td>45050</td><td>45000</td></tr>\n",
              "\t<tr><th scope=row>6</th><td>Bachelor's or higher degree                   </td><td>White</td><td>57710</td><td>61310</td><td>59150</td><td>58830</td><td>57770</td><td>59530</td><td>59020</td><td>59120</td><td>61840</td><td>60680</td><td>63650</td></tr>\n",
              "</tbody>\n",
              "</table>\n"
            ],
            "text/markdown": "\nA data.frame: 6 × 13\n\n| <!--/--> | <!----> &lt;chr&gt; | Race_Ethnicity &lt;chr&gt; | 1995 &lt;int&gt; | 2000 &lt;int&gt; | 2005 &lt;int&gt; | 2010 &lt;int&gt; | 2014 &lt;int&gt; | 2015 &lt;int&gt; | 2016 &lt;int&gt; | 2017 &lt;int&gt; | 2018 &lt;int&gt; | 2019 &lt;int&gt; | 2020 &lt;int&gt; |\n|---|---|---|---|---|---|---|---|---|---|---|---|---|---|\n| 1 | Median annual earnings, all\n education levels | White | 44130 | 48840 | 46380 | 47430 | 46450 | 49080 | 48420 | 48480 | 50430 | 50570 | 52750 |\n| 2 | Less than high school completion               | White | 29680 | 31300 | 30670 | 29660 | 31120 | 32540 | 31340 | 30930 | 36000 | 34400 | 33450 |\n| 3 | High school completion1                        | White | 37260 | 41450 | 39650 | 38600 | 36020 | 37750 | 37730 | 36950 | 38560 | 38940 | 39730 |\n| 4 | Some college, no degree                        | White | 40930 | 44940 | 42290 | 41310 | 38190 | 38140 | 38190 | 41000 | 39130 | 40470 | 41880 |\n| 5 | Associate's degree                             | White | 44170 | 47680 | 46370 | 47090 | 39960 | 42200 | 42800 | 42220 | 44040 | 45050 | 45000 |\n| 6 | Bachelor's or higher degree                    | White | 57710 | 61310 | 59150 | 58830 | 57770 | 59530 | 59020 | 59120 | 61840 | 60680 | 63650 |\n\n",
            "text/latex": "A data.frame: 6 × 13\n\\begin{tabular}{r|lllllllllllll}\n  &  & Race\\_Ethnicity & 1995 & 2000 & 2005 & 2010 & 2014 & 2015 & 2016 & 2017 & 2018 & 2019 & 2020\\\\\n  & <chr> & <chr> & <int> & <int> & <int> & <int> & <int> & <int> & <int> & <int> & <int> & <int> & <int>\\\\\n\\hline\n\t1 & Median annual earnings, all\n education levels & White & 44130 & 48840 & 46380 & 47430 & 46450 & 49080 & 48420 & 48480 & 50430 & 50570 & 52750\\\\\n\t2 & Less than high school completion               & White & 29680 & 31300 & 30670 & 29660 & 31120 & 32540 & 31340 & 30930 & 36000 & 34400 & 33450\\\\\n\t3 & High school completion1                        & White & 37260 & 41450 & 39650 & 38600 & 36020 & 37750 & 37730 & 36950 & 38560 & 38940 & 39730\\\\\n\t4 & Some college, no degree                        & White & 40930 & 44940 & 42290 & 41310 & 38190 & 38140 & 38190 & 41000 & 39130 & 40470 & 41880\\\\\n\t5 & Associate's degree                             & White & 44170 & 47680 & 46370 & 47090 & 39960 & 42200 & 42800 & 42220 & 44040 & 45050 & 45000\\\\\n\t6 & Bachelor's or higher degree                    & White & 57710 & 61310 & 59150 & 58830 & 57770 & 59530 & 59020 & 59120 & 61840 & 60680 & 63650\\\\\n\\end{tabular}\n",
            "text/plain": [
              "                                                 Race_Ethnicity 1995  2000 \n",
              "1 Median annual earnings, all\\n education levels White          44130 48840\n",
              "2 Less than high school completion               White          29680 31300\n",
              "3 High school completion1                        White          37260 41450\n",
              "4 Some college, no degree                        White          40930 44940\n",
              "5 Associate's degree                             White          44170 47680\n",
              "6 Bachelor's or higher degree                    White          57710 61310\n",
              "  2005  2010  2014  2015  2016  2017  2018  2019  2020 \n",
              "1 46380 47430 46450 49080 48420 48480 50430 50570 52750\n",
              "2 30670 29660 31120 32540 31340 30930 36000 34400 33450\n",
              "3 39650 38600 36020 37750 37730 36950 38560 38940 39730\n",
              "4 42290 41310 38190 38140 38190 41000 39130 40470 41880\n",
              "5 46370 47090 39960 42200 42800 42220 44040 45050 45000\n",
              "6 59150 58830 57770 59530 59020 59120 61840 60680 63650"
            ]
          },
          "metadata": {}
        }
      ]
    },
    {
      "cell_type": "code",
      "source": [
        "str(All)"
      ],
      "metadata": {
        "colab": {
          "base_uri": "https://localhost:8080/"
        },
        "id": "mjc1YIBAm63r",
        "outputId": "8f905d98-8bc5-4764-c608-890ceadd146d"
      },
      "execution_count": 9,
      "outputs": [
        {
          "output_type": "stream",
          "name": "stdout",
          "text": [
            "'data.frame':\t32 obs. of  13 variables:\n",
            " $               : chr  \"Median annual earnings, all\\n education levels\" \"Less than high school completion\" \"High school completion1\" \"Some college, no degree\" ...\n",
            " $ Race_Ethnicity: chr  \"White\" \"White\" \"White\" \"White\" ...\n",
            " $ 1995          : int  44130 29680 37260 40930 44170 57710 54330 67510 35610 23560 ...\n",
            " $ 2000          : int  48840 31300 41450 44940 47680 61310 60030 72020 37570 24990 ...\n",
            " $ 2005          : int  46380 30670 39650 42290 46370 59150 54250 66210 38310 27010 ...\n",
            " $ 2010          : int  47430 29660 38600 41310 47090 58830 54590 64690 37320 24650 ...\n",
            " $ 2014          : int  46450 31120 36020 38190 39960 57770 54580 63340 33710 22570 ...\n",
            " $ 2015          : int  49080 32540 37750 38140 42200 59530 54550 65520 37730 31560 ...\n",
            " $ 2016          : int  48420 31340 37730 38190 42800 59020 53920 65880 36360 23040 ...\n",
            " $ 2017          : int  48480 30930 36950 41000 42220 59120 56780 68520 36670 25330 ...\n",
            " $ 2018          : int  50430 36000 38560 39130 44040 61840 59510 65510 36440 25550 ...\n",
            " $ 2019          : int  50570 34400 38940 40470 45050 60680 60340 70420 38410 26130 ...\n",
            " $ 2020          : int  52750 33450 39730 41880 45000 63650 59970 69660 39820 27160 ...\n"
          ]
        }
      ]
    },
    {
      "cell_type": "code",
      "source": [
        "dim(All)"
      ],
      "metadata": {
        "colab": {
          "base_uri": "https://localhost:8080/",
          "height": 34
        },
        "id": "PArjjs1MOo_J",
        "outputId": "5ce04dbe-3ba8-4e06-eaab-f5c02d2c10b3"
      },
      "execution_count": 4,
      "outputs": [
        {
          "output_type": "display_data",
          "data": {
            "text/html": [
              "<style>\n",
              ".list-inline {list-style: none; margin:0; padding: 0}\n",
              ".list-inline>li {display: inline-block}\n",
              ".list-inline>li:not(:last-child)::after {content: \"\\00b7\"; padding: 0 .5ex}\n",
              "</style>\n",
              "<ol class=list-inline><li>32</li><li>13</li></ol>\n"
            ],
            "text/markdown": "1. 32\n2. 13\n\n\n",
            "text/latex": "\\begin{enumerate*}\n\\item 32\n\\item 13\n\\end{enumerate*}\n",
            "text/plain": [
              "[1] 32 13"
            ]
          },
          "metadata": {}
        }
      ]
    },
    {
      "cell_type": "code",
      "source": [
        "All_long <- melt(All)\n",
        "head(All_long , 4)\n"
      ],
      "metadata": {
        "colab": {
          "base_uri": "https://localhost:8080/",
          "height": 259
        },
        "id": "ddEYEdNjPeyi",
        "outputId": "6cdf4267-bc44-49e0-bca1-e4e9fe16162e"
      },
      "execution_count": 8,
      "outputs": [
        {
          "output_type": "stream",
          "name": "stderr",
          "text": [
            "Using , Race_Ethnicity as id variables\n",
            "\n"
          ]
        },
        {
          "output_type": "display_data",
          "data": {
            "text/html": [
              "<table class=\"dataframe\">\n",
              "<caption>A data.frame: 4 × 4</caption>\n",
              "<thead>\n",
              "\t<tr><th></th><th scope=col></th><th scope=col>Race_Ethnicity</th><th scope=col>variable</th><th scope=col>value</th></tr>\n",
              "\t<tr><th></th><th scope=col>&lt;chr&gt;</th><th scope=col>&lt;chr&gt;</th><th scope=col>&lt;fct&gt;</th><th scope=col>&lt;int&gt;</th></tr>\n",
              "</thead>\n",
              "<tbody>\n",
              "\t<tr><th scope=row>1</th><td>Median annual earnings, all\n",
              " education levels</td><td>White</td><td>1995</td><td>44130</td></tr>\n",
              "\t<tr><th scope=row>2</th><td>Less than high school completion              </td><td>White</td><td>1995</td><td>29680</td></tr>\n",
              "\t<tr><th scope=row>3</th><td>High school completion1                       </td><td>White</td><td>1995</td><td>37260</td></tr>\n",
              "\t<tr><th scope=row>4</th><td>Some college, no degree                       </td><td>White</td><td>1995</td><td>40930</td></tr>\n",
              "</tbody>\n",
              "</table>\n"
            ],
            "text/markdown": "\nA data.frame: 4 × 4\n\n| <!--/--> | <!----> &lt;chr&gt; | Race_Ethnicity &lt;chr&gt; | variable &lt;fct&gt; | value &lt;int&gt; |\n|---|---|---|---|---|\n| 1 | Median annual earnings, all\n education levels | White | 1995 | 44130 |\n| 2 | Less than high school completion               | White | 1995 | 29680 |\n| 3 | High school completion1                        | White | 1995 | 37260 |\n| 4 | Some college, no degree                        | White | 1995 | 40930 |\n\n",
            "text/latex": "A data.frame: 4 × 4\n\\begin{tabular}{r|llll}\n  &  & Race\\_Ethnicity & variable & value\\\\\n  & <chr> & <chr> & <fct> & <int>\\\\\n\\hline\n\t1 & Median annual earnings, all\n education levels & White & 1995 & 44130\\\\\n\t2 & Less than high school completion               & White & 1995 & 29680\\\\\n\t3 & High school completion1                        & White & 1995 & 37260\\\\\n\t4 & Some college, no degree                        & White & 1995 & 40930\\\\\n\\end{tabular}\n",
            "text/plain": [
              "                                                 Race_Ethnicity variable value\n",
              "1 Median annual earnings, all\\n education levels White          1995     44130\n",
              "2 Less than high school completion               White          1995     29680\n",
              "3 High school completion1                        White          1995     37260\n",
              "4 Some college, no degree                        White          1995     40930"
            ]
          },
          "metadata": {}
        }
      ]
    },
    {
      "cell_type": "markdown",
      "source": [
        "### Name the first column"
      ],
      "metadata": {
        "id": "vupyjszIUEvA"
      }
    },
    {
      "cell_type": "code",
      "source": [
        "colnames(All_long)[1] <- \"Education_Level\" "
      ],
      "metadata": {
        "id": "Ymkipw6cTrSD"
      },
      "execution_count": null,
      "outputs": []
    },
    {
      "cell_type": "code",
      "source": [
        "head(All_long)"
      ],
      "metadata": {
        "colab": {
          "base_uri": "https://localhost:8080/",
          "height": 286
        },
        "id": "Km5uZO4mT3Po",
        "outputId": "01c906d1-07a4-4461-dab7-ffcb57aecc7d"
      },
      "execution_count": null,
      "outputs": [
        {
          "output_type": "display_data",
          "data": {
            "text/html": [
              "<table class=\"dataframe\">\n",
              "<caption>A data.frame: 6 × 4</caption>\n",
              "<thead>\n",
              "\t<tr><th></th><th scope=col>Education_Level</th><th scope=col>Race_Ethnicity</th><th scope=col>variable</th><th scope=col>value</th></tr>\n",
              "\t<tr><th></th><th scope=col>&lt;chr&gt;</th><th scope=col>&lt;chr&gt;</th><th scope=col>&lt;fct&gt;</th><th scope=col>&lt;int&gt;</th></tr>\n",
              "</thead>\n",
              "<tbody>\n",
              "\t<tr><th scope=row>1</th><td>Median annual earnings, all\n",
              " education levels</td><td>White</td><td>1995</td><td>44130</td></tr>\n",
              "\t<tr><th scope=row>2</th><td>Less than high school completion              </td><td>White</td><td>1995</td><td>29680</td></tr>\n",
              "\t<tr><th scope=row>3</th><td>High school completion1                       </td><td>White</td><td>1995</td><td>37260</td></tr>\n",
              "\t<tr><th scope=row>4</th><td>Some college, no degree                       </td><td>White</td><td>1995</td><td>40930</td></tr>\n",
              "\t<tr><th scope=row>5</th><td>Associate's degree                            </td><td>White</td><td>1995</td><td>44170</td></tr>\n",
              "\t<tr><th scope=row>6</th><td>Bachelor's or higher degree                   </td><td>White</td><td>1995</td><td>57710</td></tr>\n",
              "</tbody>\n",
              "</table>\n"
            ],
            "text/markdown": "\nA data.frame: 6 × 4\n\n| <!--/--> | Education_Level &lt;chr&gt; | Race_Ethnicity &lt;chr&gt; | variable &lt;fct&gt; | value &lt;int&gt; |\n|---|---|---|---|---|\n| 1 | Median annual earnings, all\n education levels | White | 1995 | 44130 |\n| 2 | Less than high school completion               | White | 1995 | 29680 |\n| 3 | High school completion1                        | White | 1995 | 37260 |\n| 4 | Some college, no degree                        | White | 1995 | 40930 |\n| 5 | Associate's degree                             | White | 1995 | 44170 |\n| 6 | Bachelor's or higher degree                    | White | 1995 | 57710 |\n\n",
            "text/latex": "A data.frame: 6 × 4\n\\begin{tabular}{r|llll}\n  & Education\\_Level & Race\\_Ethnicity & variable & value\\\\\n  & <chr> & <chr> & <fct> & <int>\\\\\n\\hline\n\t1 & Median annual earnings, all\n education levels & White & 1995 & 44130\\\\\n\t2 & Less than high school completion               & White & 1995 & 29680\\\\\n\t3 & High school completion1                        & White & 1995 & 37260\\\\\n\t4 & Some college, no degree                        & White & 1995 & 40930\\\\\n\t5 & Associate's degree                             & White & 1995 & 44170\\\\\n\t6 & Bachelor's or higher degree                    & White & 1995 & 57710\\\\\n\\end{tabular}\n",
            "text/plain": [
              "  Education_Level                                Race_Ethnicity variable value\n",
              "1 Median annual earnings, all\\n education levels White          1995     44130\n",
              "2 Less than high school completion               White          1995     29680\n",
              "3 High school completion1                        White          1995     37260\n",
              "4 Some college, no degree                        White          1995     40930\n",
              "5 Associate's degree                             White          1995     44170\n",
              "6 Bachelor's or higher degree                    White          1995     57710"
            ]
          },
          "metadata": {}
        }
      ]
    },
    {
      "cell_type": "markdown",
      "source": [
        "### Drop the Year col"
      ],
      "metadata": {
        "id": "m4ISI9WLUWYg"
      }
    },
    {
      "cell_type": "code",
      "source": [
        "All_long <- All_long%>%  select(Education_Level , Race_Ethnicity ,value)"
      ],
      "metadata": {
        "id": "mzY0-TwtUV4f"
      },
      "execution_count": null,
      "outputs": []
    },
    {
      "cell_type": "code",
      "source": [
        "head(All_long, 3)"
      ],
      "metadata": {
        "colab": {
          "base_uri": "https://localhost:8080/",
          "height": 192
        },
        "id": "Sg0A7n2LWLbw",
        "outputId": "91dbeccd-4414-4bc9-d002-5dafec3cd79e"
      },
      "execution_count": null,
      "outputs": [
        {
          "output_type": "display_data",
          "data": {
            "text/html": [
              "<table class=\"dataframe\">\n",
              "<caption>A data.frame: 3 × 3</caption>\n",
              "<thead>\n",
              "\t<tr><th></th><th scope=col>Education_Level</th><th scope=col>Race_Ethnicity</th><th scope=col>value</th></tr>\n",
              "\t<tr><th></th><th scope=col>&lt;chr&gt;</th><th scope=col>&lt;chr&gt;</th><th scope=col>&lt;int&gt;</th></tr>\n",
              "</thead>\n",
              "<tbody>\n",
              "\t<tr><th scope=row>1</th><td>Median annual earnings, all\n",
              " education levels</td><td>White</td><td>44130</td></tr>\n",
              "\t<tr><th scope=row>2</th><td>Less than high school completion              </td><td>White</td><td>29680</td></tr>\n",
              "\t<tr><th scope=row>3</th><td>High school completion1                       </td><td>White</td><td>37260</td></tr>\n",
              "</tbody>\n",
              "</table>\n"
            ],
            "text/markdown": "\nA data.frame: 3 × 3\n\n| <!--/--> | Education_Level &lt;chr&gt; | Race_Ethnicity &lt;chr&gt; | value &lt;int&gt; |\n|---|---|---|---|\n| 1 | Median annual earnings, all\n education levels | White | 44130 |\n| 2 | Less than high school completion               | White | 29680 |\n| 3 | High school completion1                        | White | 37260 |\n\n",
            "text/latex": "A data.frame: 3 × 3\n\\begin{tabular}{r|lll}\n  & Education\\_Level & Race\\_Ethnicity & value\\\\\n  & <chr> & <chr> & <int>\\\\\n\\hline\n\t1 & Median annual earnings, all\n education levels & White & 44130\\\\\n\t2 & Less than high school completion               & White & 29680\\\\\n\t3 & High school completion1                        & White & 37260\\\\\n\\end{tabular}\n",
            "text/plain": [
              "  Education_Level                                Race_Ethnicity value\n",
              "1 Median annual earnings, all\\n education levels White          44130\n",
              "2 Less than high school completion               White          29680\n",
              "3 High school completion1                        White          37260"
            ]
          },
          "metadata": {}
        }
      ]
    },
    {
      "cell_type": "markdown",
      "source": [
        "## drop that row"
      ],
      "metadata": {
        "id": "-w4AgdoVWhvQ"
      }
    },
    {
      "cell_type": "markdown",
      "source": [
        "## Substitute the text of Category with numbers\n"
      ],
      "metadata": {
        "id": "7rJhW9UDY1o0"
      }
    },
    {
      "cell_type": "code",
      "source": [
        "str(All_long)"
      ],
      "metadata": {
        "colab": {
          "base_uri": "https://localhost:8080/"
        },
        "id": "bgpjpGehcbuF",
        "outputId": "cc8620e8-bf54-43b9-a400-d2856bd587e7"
      },
      "execution_count": null,
      "outputs": [
        {
          "output_type": "stream",
          "name": "stdout",
          "text": [
            "'data.frame':\t352 obs. of  3 variables:\n",
            " $ Education_Level: chr  \"Medianannualearningsalleducationlevels\" \"Lessthanhighschoolcompletion\" \"Highschoolcompletion1\" \"Somecollegenodegree\" ...\n",
            " $ Race_Ethnicity : chr  \"4\" \"4\" \"4\" \"4\" ...\n",
            " $ value          : chr  \"44130\" \"29680\" \"37260\" \"40930\" ...\n"
          ]
        }
      ]
    },
    {
      "cell_type": "code",
      "source": [
        "# Replace String with Another Stirng on a single column\n",
        "# df$address[df$address == 'Orange St'] <- 'Portola Pkwy'\n",
        "#\n",
        "All_long$Race_Ethnicity[All_long$Race_Ethnicity == 'Asian'] <- '1'\n",
        "All_long$Race_Ethnicity[All_long$Race_Ethnicity == 'Black'] <- '2'\n",
        "All_long$Race_Ethnicity[All_long$Race_Ethnicity == 'Hispanic'] <- '3'\n",
        "All_long$Race_Ethnicity[All_long$Race_Ethnicity == 'White'] <- '4'"
      ],
      "metadata": {
        "id": "PSEf5cdXxSfH"
      },
      "execution_count": null,
      "outputs": []
    },
    {
      "cell_type": "code",
      "source": [
        "head(All_long)"
      ],
      "metadata": {
        "colab": {
          "base_uri": "https://localhost:8080/",
          "height": 286
        },
        "id": "M1iiHiWd6qOv",
        "outputId": "422f2ea5-1328-4961-cb8f-3e062ef2805b"
      },
      "execution_count": null,
      "outputs": [
        {
          "output_type": "display_data",
          "data": {
            "text/html": [
              "<table class=\"dataframe\">\n",
              "<caption>A data.frame: 6 × 3</caption>\n",
              "<thead>\n",
              "\t<tr><th></th><th scope=col>Education_Level</th><th scope=col>Race_Ethnicity</th><th scope=col>value</th></tr>\n",
              "\t<tr><th></th><th scope=col>&lt;chr&gt;</th><th scope=col>&lt;chr&gt;</th><th scope=col>&lt;chr&gt;</th></tr>\n",
              "</thead>\n",
              "<tbody>\n",
              "\t<tr><th scope=row>1</th><td>Medianannualearningsalleducationlevels</td><td>4</td><td>44130</td></tr>\n",
              "\t<tr><th scope=row>2</th><td>Lessthanhighschoolcompletion          </td><td>4</td><td>29680</td></tr>\n",
              "\t<tr><th scope=row>3</th><td>Highschoolcompletion1                 </td><td>4</td><td>37260</td></tr>\n",
              "\t<tr><th scope=row>4</th><td>Somecollegenodegree                   </td><td>4</td><td>40930</td></tr>\n",
              "\t<tr><th scope=row>5</th><td>Associatesdegree                      </td><td>4</td><td>44170</td></tr>\n",
              "\t<tr><th scope=row>6</th><td>Bachelorsorhigherdegree               </td><td>4</td><td>57710</td></tr>\n",
              "</tbody>\n",
              "</table>\n"
            ],
            "text/markdown": "\nA data.frame: 6 × 3\n\n| <!--/--> | Education_Level &lt;chr&gt; | Race_Ethnicity &lt;chr&gt; | value &lt;chr&gt; |\n|---|---|---|---|\n| 1 | Medianannualearningsalleducationlevels | 4 | 44130 |\n| 2 | Lessthanhighschoolcompletion           | 4 | 29680 |\n| 3 | Highschoolcompletion1                  | 4 | 37260 |\n| 4 | Somecollegenodegree                    | 4 | 40930 |\n| 5 | Associatesdegree                       | 4 | 44170 |\n| 6 | Bachelorsorhigherdegree                | 4 | 57710 |\n\n",
            "text/latex": "A data.frame: 6 × 3\n\\begin{tabular}{r|lll}\n  & Education\\_Level & Race\\_Ethnicity & value\\\\\n  & <chr> & <chr> & <chr>\\\\\n\\hline\n\t1 & Medianannualearningsalleducationlevels & 4 & 44130\\\\\n\t2 & Lessthanhighschoolcompletion           & 4 & 29680\\\\\n\t3 & Highschoolcompletion1                  & 4 & 37260\\\\\n\t4 & Somecollegenodegree                    & 4 & 40930\\\\\n\t5 & Associatesdegree                       & 4 & 44170\\\\\n\t6 & Bachelorsorhigherdegree                & 4 & 57710\\\\\n\\end{tabular}\n",
            "text/plain": [
              "  Education_Level                        Race_Ethnicity value\n",
              "1 Medianannualearningsalleducationlevels 4              44130\n",
              "2 Lessthanhighschoolcompletion           4              29680\n",
              "3 Highschoolcompletion1                  4              37260\n",
              "4 Somecollegenodegree                    4              40930\n",
              "5 Associatesdegree                       4              44170\n",
              "6 Bachelorsorhigherdegree                4              57710"
            ]
          },
          "metadata": {}
        }
      ]
    },
    {
      "cell_type": "markdown",
      "source": [
        "# xxxxxx"
      ],
      "metadata": {
        "id": "1mOeBWGDQitw"
      }
    },
    {
      "cell_type": "markdown",
      "source": [
        "## Next remove punctuation"
      ],
      "metadata": {
        "id": "l9_ElTEwPSyC"
      }
    },
    {
      "cell_type": "code",
      "source": [
        "All_long$Education_Level <- gsub(\"'\" , \"\" , as.character(All_long$Education_Level))"
      ],
      "metadata": {
        "id": "UmCMes7ePWsQ"
      },
      "execution_count": null,
      "outputs": []
    },
    {
      "cell_type": "code",
      "source": [
        "All_long$Education_Level <- gsub(\",\" , \"\" , as.character(All_long$Education_Level))"
      ],
      "metadata": {
        "id": "dRn0KPg3Q1h9"
      },
      "execution_count": null,
      "outputs": []
    },
    {
      "cell_type": "markdown",
      "source": [
        "## Next remove the white space"
      ],
      "metadata": {
        "id": "KSpB_tXzRCVQ"
      }
    },
    {
      "cell_type": "markdown",
      "source": [
        "To replace text with words we need to strip out the white space to make the phrase a single \"word\" then we can replace that word with a number "
      ],
      "metadata": {
        "id": "qU-_BpUn76R2"
      }
    },
    {
      "cell_type": "code",
      "source": [
        "All_long <- as.data.frame(\n",
        "  apply(All_long,2, function(x) gsub(\"\\\\s+\", \"\", x)))"
      ],
      "metadata": {
        "id": "r7y6V06w6qKy"
      },
      "execution_count": null,
      "outputs": []
    },
    {
      "cell_type": "code",
      "source": [
        "head(All_long)"
      ],
      "metadata": {
        "colab": {
          "base_uri": "https://localhost:8080/",
          "height": 286
        },
        "id": "-SCpDk4wQ1a_",
        "outputId": "787c62d3-f919-4a6d-a845-53b77326cfd3"
      },
      "execution_count": null,
      "outputs": [
        {
          "output_type": "display_data",
          "data": {
            "text/html": [
              "<table class=\"dataframe\">\n",
              "<caption>A data.frame: 6 × 3</caption>\n",
              "<thead>\n",
              "\t<tr><th></th><th scope=col>Education_Level</th><th scope=col>Race_Ethnicity</th><th scope=col>value</th></tr>\n",
              "\t<tr><th></th><th scope=col>&lt;chr&gt;</th><th scope=col>&lt;chr&gt;</th><th scope=col>&lt;dbl&gt;</th></tr>\n",
              "</thead>\n",
              "<tbody>\n",
              "\t<tr><th scope=row>1</th><td>Medianannualearningsalleducationlevels</td><td>4</td><td>44130</td></tr>\n",
              "\t<tr><th scope=row>2</th><td>Lessthanhighschoolcompletion          </td><td>4</td><td>29680</td></tr>\n",
              "\t<tr><th scope=row>3</th><td>Highschoolcompletion1                 </td><td>4</td><td>37260</td></tr>\n",
              "\t<tr><th scope=row>4</th><td>Somecollegenodegree                   </td><td>4</td><td>40930</td></tr>\n",
              "\t<tr><th scope=row>5</th><td>Associatesdegree                      </td><td>4</td><td>44170</td></tr>\n",
              "\t<tr><th scope=row>6</th><td>Bachelorsorhigherdegree               </td><td>4</td><td>57710</td></tr>\n",
              "</tbody>\n",
              "</table>\n"
            ],
            "text/markdown": "\nA data.frame: 6 × 3\n\n| <!--/--> | Education_Level &lt;chr&gt; | Race_Ethnicity &lt;chr&gt; | value &lt;dbl&gt; |\n|---|---|---|---|\n| 1 | Medianannualearningsalleducationlevels | 4 | 44130 |\n| 2 | Lessthanhighschoolcompletion           | 4 | 29680 |\n| 3 | Highschoolcompletion1                  | 4 | 37260 |\n| 4 | Somecollegenodegree                    | 4 | 40930 |\n| 5 | Associatesdegree                       | 4 | 44170 |\n| 6 | Bachelorsorhigherdegree                | 4 | 57710 |\n\n",
            "text/latex": "A data.frame: 6 × 3\n\\begin{tabular}{r|lll}\n  & Education\\_Level & Race\\_Ethnicity & value\\\\\n  & <chr> & <chr> & <dbl>\\\\\n\\hline\n\t1 & Medianannualearningsalleducationlevels & 4 & 44130\\\\\n\t2 & Lessthanhighschoolcompletion           & 4 & 29680\\\\\n\t3 & Highschoolcompletion1                  & 4 & 37260\\\\\n\t4 & Somecollegenodegree                    & 4 & 40930\\\\\n\t5 & Associatesdegree                       & 4 & 44170\\\\\n\t6 & Bachelorsorhigherdegree                & 4 & 57710\\\\\n\\end{tabular}\n",
            "text/plain": [
              "  Education_Level                        Race_Ethnicity value\n",
              "1 Medianannualearningsalleducationlevels 4              44130\n",
              "2 Lessthanhighschoolcompletion           4              29680\n",
              "3 Highschoolcompletion1                  4              37260\n",
              "4 Somecollegenodegree                    4              40930\n",
              "5 Associatesdegree                       4              44170\n",
              "6 Bachelorsorhigherdegree                4              57710"
            ]
          },
          "metadata": {}
        }
      ]
    },
    {
      "cell_type": "markdown",
      "source": [
        "## Convert Education Level and Race Ethnicity to factors "
      ],
      "metadata": {
        "id": "A1_HaS_Nmwg9"
      }
    },
    {
      "cell_type": "code",
      "source": [
        "#All_long$Education_Level <-  as.factor(All_long$Education_Level)\n",
        "\n",
        "#All_long$Race_Ethnicity <- as.factor( All_long$Race_Ethnicity)"
      ],
      "metadata": {
        "id": "B1RDvh6rmwPZ"
      },
      "execution_count": null,
      "outputs": []
    },
    {
      "cell_type": "code",
      "source": [
        "All_long$value <- as.numeric(All_long$value)"
      ],
      "metadata": {
        "id": "lINiPmXNPWpO"
      },
      "execution_count": null,
      "outputs": []
    },
    {
      "cell_type": "markdown",
      "source": [
        "LEt us drop all rows containing th avg earnings for all education levels:Medianannualearnings,alleducationlevels"
      ],
      "metadata": {
        "id": "JKJ5ynTv-pTt"
      }
    },
    {
      "cell_type": "code",
      "source": [
        "# df[!grepl(\"REVERSE\", df$Name),]\n",
        "All_long <- All_long[!grepl(\"Median\", All_long$Education_Level),]"
      ],
      "metadata": {
        "id": "tMgwqIxL-zb_"
      },
      "execution_count": null,
      "outputs": []
    },
    {
      "cell_type": "code",
      "source": [
        "head(All_long ,10)"
      ],
      "metadata": {
        "colab": {
          "base_uri": "https://localhost:8080/",
          "height": 412
        },
        "id": "28mY8Y3SOA3U",
        "outputId": "5a27ea51-562c-4bb1-f9b7-aed08e2ad19f"
      },
      "execution_count": null,
      "outputs": [
        {
          "output_type": "display_data",
          "data": {
            "text/html": [
              "<table class=\"dataframe\">\n",
              "<caption>A data.frame: 10 × 3</caption>\n",
              "<thead>\n",
              "\t<tr><th></th><th scope=col>Education_Level</th><th scope=col>Race_Ethnicity</th><th scope=col>value</th></tr>\n",
              "\t<tr><th></th><th scope=col>&lt;chr&gt;</th><th scope=col>&lt;chr&gt;</th><th scope=col>&lt;dbl&gt;</th></tr>\n",
              "</thead>\n",
              "<tbody>\n",
              "\t<tr><th scope=row>2</th><td>Lessthanhighschoolcompletion</td><td>4</td><td>29680</td></tr>\n",
              "\t<tr><th scope=row>3</th><td>Highschoolcompletion1       </td><td>4</td><td>37260</td></tr>\n",
              "\t<tr><th scope=row>4</th><td>Somecollegenodegree         </td><td>4</td><td>40930</td></tr>\n",
              "\t<tr><th scope=row>5</th><td>Associatesdegree            </td><td>4</td><td>44170</td></tr>\n",
              "\t<tr><th scope=row>6</th><td>Bachelorsorhigherdegree     </td><td>4</td><td>57710</td></tr>\n",
              "\t<tr><th scope=row>7</th><td>Bachelorsdegree             </td><td>4</td><td>54330</td></tr>\n",
              "\t<tr><th scope=row>8</th><td>Mastersorhigherdegree       </td><td>4</td><td>67510</td></tr>\n",
              "\t<tr><th scope=row>10</th><td>Lessthanhighschoolcompletion</td><td>2</td><td>23560</td></tr>\n",
              "\t<tr><th scope=row>11</th><td>Highschoolcompletion1       </td><td>2</td><td>30510</td></tr>\n",
              "\t<tr><th scope=row>12</th><td>Somecollegenodegree         </td><td>2</td><td>38170</td></tr>\n",
              "</tbody>\n",
              "</table>\n"
            ],
            "text/markdown": "\nA data.frame: 10 × 3\n\n| <!--/--> | Education_Level &lt;chr&gt; | Race_Ethnicity &lt;chr&gt; | value &lt;dbl&gt; |\n|---|---|---|---|\n| 2 | Lessthanhighschoolcompletion | 4 | 29680 |\n| 3 | Highschoolcompletion1        | 4 | 37260 |\n| 4 | Somecollegenodegree          | 4 | 40930 |\n| 5 | Associatesdegree             | 4 | 44170 |\n| 6 | Bachelorsorhigherdegree      | 4 | 57710 |\n| 7 | Bachelorsdegree              | 4 | 54330 |\n| 8 | Mastersorhigherdegree        | 4 | 67510 |\n| 10 | Lessthanhighschoolcompletion | 2 | 23560 |\n| 11 | Highschoolcompletion1        | 2 | 30510 |\n| 12 | Somecollegenodegree          | 2 | 38170 |\n\n",
            "text/latex": "A data.frame: 10 × 3\n\\begin{tabular}{r|lll}\n  & Education\\_Level & Race\\_Ethnicity & value\\\\\n  & <chr> & <chr> & <dbl>\\\\\n\\hline\n\t2 & Lessthanhighschoolcompletion & 4 & 29680\\\\\n\t3 & Highschoolcompletion1        & 4 & 37260\\\\\n\t4 & Somecollegenodegree          & 4 & 40930\\\\\n\t5 & Associatesdegree             & 4 & 44170\\\\\n\t6 & Bachelorsorhigherdegree      & 4 & 57710\\\\\n\t7 & Bachelorsdegree              & 4 & 54330\\\\\n\t8 & Mastersorhigherdegree        & 4 & 67510\\\\\n\t10 & Lessthanhighschoolcompletion & 2 & 23560\\\\\n\t11 & Highschoolcompletion1        & 2 & 30510\\\\\n\t12 & Somecollegenodegree          & 2 & 38170\\\\\n\\end{tabular}\n",
            "text/plain": [
              "   Education_Level              Race_Ethnicity value\n",
              "2  Lessthanhighschoolcompletion 4              29680\n",
              "3  Highschoolcompletion1        4              37260\n",
              "4  Somecollegenodegree          4              40930\n",
              "5  Associatesdegree             4              44170\n",
              "6  Bachelorsorhigherdegree      4              57710\n",
              "7  Bachelorsdegree              4              54330\n",
              "8  Mastersorhigherdegree        4              67510\n",
              "10 Lessthanhighschoolcompletion 2              23560\n",
              "11 Highschoolcompletion1        2              30510\n",
              "12 Somecollegenodegree          2              38170"
            ]
          },
          "metadata": {}
        }
      ]
    },
    {
      "cell_type": "markdown",
      "source": [
        "### Now we will get back to substituting number sfor text\n"
      ],
      "metadata": {
        "id": "7oPxvdW9NMbV"
      }
    },
    {
      "cell_type": "code",
      "source": [
        "\n",
        " All_long$Education_Level[All_long$Education_Level == \t'Lessthanhighschoolcompletion'] <- 1\n",
        " All_long$Education_Level[All_long$Education_Level == \t'Highschoolcompletion1'] <- 2\n",
        " All_long$Education_Level[All_long$Education_Level == \t'Somecollegenodegree'] <- 3\n",
        " All_long$Education_Level[All_long$Education_Level == \t'Associatesdegree'] <- 4\n",
        " All_long$Education_Level[All_long$Education_Level == \t'Bachelorsdegree'] <- 5\n",
        " All_long$Education_Level[All_long$Education_Level == \t'Bachelorsorhigherdegree'] <- 6\n",
        "All_long$Education_Level[All_long$Education_Level == \t'Mastersorhigherdegree'] <- 6"
      ],
      "metadata": {
        "id": "0EhjGEMS-zYO"
      },
      "execution_count": null,
      "outputs": []
    },
    {
      "cell_type": "code",
      "source": [
        "head(All_long)"
      ],
      "metadata": {
        "colab": {
          "base_uri": "https://localhost:8080/",
          "height": 286
        },
        "id": "mRy7pRJfNFIe",
        "outputId": "2d3d10ed-290f-4e8b-fa13-74dc7fc60694"
      },
      "execution_count": null,
      "outputs": [
        {
          "output_type": "display_data",
          "data": {
            "text/html": [
              "<table class=\"dataframe\">\n",
              "<caption>A data.frame: 6 × 3</caption>\n",
              "<thead>\n",
              "\t<tr><th></th><th scope=col>Education_Level</th><th scope=col>Race_Ethnicity</th><th scope=col>value</th></tr>\n",
              "\t<tr><th></th><th scope=col>&lt;chr&gt;</th><th scope=col>&lt;chr&gt;</th><th scope=col>&lt;dbl&gt;</th></tr>\n",
              "</thead>\n",
              "<tbody>\n",
              "\t<tr><th scope=row>2</th><td>1</td><td>4</td><td>29680</td></tr>\n",
              "\t<tr><th scope=row>3</th><td>2</td><td>4</td><td>37260</td></tr>\n",
              "\t<tr><th scope=row>4</th><td>3</td><td>4</td><td>40930</td></tr>\n",
              "\t<tr><th scope=row>5</th><td>4</td><td>4</td><td>44170</td></tr>\n",
              "\t<tr><th scope=row>6</th><td>6</td><td>4</td><td>57710</td></tr>\n",
              "\t<tr><th scope=row>7</th><td>5</td><td>4</td><td>54330</td></tr>\n",
              "</tbody>\n",
              "</table>\n"
            ],
            "text/markdown": "\nA data.frame: 6 × 3\n\n| <!--/--> | Education_Level &lt;chr&gt; | Race_Ethnicity &lt;chr&gt; | value &lt;dbl&gt; |\n|---|---|---|---|\n| 2 | 1 | 4 | 29680 |\n| 3 | 2 | 4 | 37260 |\n| 4 | 3 | 4 | 40930 |\n| 5 | 4 | 4 | 44170 |\n| 6 | 6 | 4 | 57710 |\n| 7 | 5 | 4 | 54330 |\n\n",
            "text/latex": "A data.frame: 6 × 3\n\\begin{tabular}{r|lll}\n  & Education\\_Level & Race\\_Ethnicity & value\\\\\n  & <chr> & <chr> & <dbl>\\\\\n\\hline\n\t2 & 1 & 4 & 29680\\\\\n\t3 & 2 & 4 & 37260\\\\\n\t4 & 3 & 4 & 40930\\\\\n\t5 & 4 & 4 & 44170\\\\\n\t6 & 6 & 4 & 57710\\\\\n\t7 & 5 & 4 & 54330\\\\\n\\end{tabular}\n",
            "text/plain": [
              "  Education_Level Race_Ethnicity value\n",
              "2 1               4              29680\n",
              "3 2               4              37260\n",
              "4 3               4              40930\n",
              "5 4               4              44170\n",
              "6 6               4              57710\n",
              "7 5               4              54330"
            ]
          },
          "metadata": {}
        }
      ]
    },
    {
      "cell_type": "markdown",
      "source": [
        "Change character to numeric"
      ],
      "metadata": {
        "id": "a2NWvpUXaEfC"
      }
    },
    {
      "cell_type": "code",
      "source": [
        "All_long$Education_Level <- as.numeric(All_long$Education_Level)"
      ],
      "metadata": {
        "id": "fzw_e5nLNFFW"
      },
      "execution_count": null,
      "outputs": []
    },
    {
      "cell_type": "code",
      "source": [
        "All_long$Race_Ethnicity <- as.numeric(All_long$Race_Ethnicity)"
      ],
      "metadata": {
        "id": "2EkPcFvr6735"
      },
      "execution_count": null,
      "outputs": []
    },
    {
      "cell_type": "code",
      "source": [
        "head(All_long ,3)"
      ],
      "metadata": {
        "id": "XPiKrJjQZC-t",
        "colab": {
          "base_uri": "https://localhost:8080/",
          "height": 192
        },
        "outputId": "c92e0729-dade-4a7a-8273-6b731cba33d3"
      },
      "execution_count": null,
      "outputs": [
        {
          "output_type": "display_data",
          "data": {
            "text/html": [
              "<table class=\"dataframe\">\n",
              "<caption>A data.frame: 3 × 3</caption>\n",
              "<thead>\n",
              "\t<tr><th></th><th scope=col>Education_Level</th><th scope=col>Race_Ethnicity</th><th scope=col>value</th></tr>\n",
              "\t<tr><th></th><th scope=col>&lt;dbl&gt;</th><th scope=col>&lt;dbl&gt;</th><th scope=col>&lt;dbl&gt;</th></tr>\n",
              "</thead>\n",
              "<tbody>\n",
              "\t<tr><th scope=row>2</th><td>1</td><td>4</td><td>29680</td></tr>\n",
              "\t<tr><th scope=row>3</th><td>2</td><td>4</td><td>37260</td></tr>\n",
              "\t<tr><th scope=row>4</th><td>3</td><td>4</td><td>40930</td></tr>\n",
              "</tbody>\n",
              "</table>\n"
            ],
            "text/markdown": "\nA data.frame: 3 × 3\n\n| <!--/--> | Education_Level &lt;dbl&gt; | Race_Ethnicity &lt;dbl&gt; | value &lt;dbl&gt; |\n|---|---|---|---|\n| 2 | 1 | 4 | 29680 |\n| 3 | 2 | 4 | 37260 |\n| 4 | 3 | 4 | 40930 |\n\n",
            "text/latex": "A data.frame: 3 × 3\n\\begin{tabular}{r|lll}\n  & Education\\_Level & Race\\_Ethnicity & value\\\\\n  & <dbl> & <dbl> & <dbl>\\\\\n\\hline\n\t2 & 1 & 4 & 29680\\\\\n\t3 & 2 & 4 & 37260\\\\\n\t4 & 3 & 4 & 40930\\\\\n\\end{tabular}\n",
            "text/plain": [
              "  Education_Level Race_Ethnicity value\n",
              "2 1               4              29680\n",
              "3 2               4              37260\n",
              "4 3               4              40930"
            ]
          },
          "metadata": {}
        }
      ]
    },
    {
      "cell_type": "markdown",
      "source": [
        "## Before we do any Regressions let us look at  acoorelation matrix\n",
        "\n",
        "## Let us do a scatter plot where color = race"
      ],
      "metadata": {
        "id": "NyawhqIMXeq-"
      }
    },
    {
      "cell_type": "code",
      "source": [
        "All_long$Education_Level <-  as.factor(All_long$Education_Level)\n",
        "\n",
        "All_long$Race_Ethnicity <- as.factor( All_long$Race_Ethnicity)"
      ],
      "metadata": {
        "id": "r0Ifb7mgbGfS"
      },
      "execution_count": null,
      "outputs": []
    },
    {
      "cell_type": "code",
      "source": [
        "ggplot(All_long , aes(x= Education_Level, y= value, color = Race_Ethnicity )) +\n",
        "        geom_point(size = 4) +\n",
        "        theme_economist()+\n",
        "        labs(title = \"Race/Ethnicity , Edcuation, Income\",\n",
        "              subtitle = \"1 = Asian, 2 = Black, 3= Hispanci , 4= white\",\n",
        "              caption = \"Some data\") +\n",
        "                scale_y_continuous(breaks=seq(25000,100000,by= 25000))"
      ],
      "metadata": {
        "colab": {
          "base_uri": "https://localhost:8080/",
          "height": 917
        },
        "id": "DoicFlczjjqt",
        "outputId": "1b038527-5490-46b7-cb21-0b00175722f0"
      },
      "execution_count": null,
      "outputs": [
        {
          "output_type": "display_data",
          "data": {
            "text/plain": [
              "plot without title"
            ],
            "image/png": "[encoded data removed]"
          },
          "metadata": {
            "image/png": {
              "width": 840,
              "height": 900
            }
          }
        }
      ]
    },
    {
      "cell_type": "code",
      "source": [
        "ggplot(All_long , aes(x= Education_Level, y= value, color = Race_Ethnicity )) +\n",
        "        geom_point(size = 4) +\n",
        "        theme_economist()+\n",
        "\n",
        "        labs(title = \"Race/Ethnicity , Edcuation, Income\",\n",
        "              subtitle = \"1 = Asian, 2 = Black, 3= Hispanci , 4= white\",\n",
        "              caption = \"Some data\")\n",
        "        theme(\n",
        "  plot.title = element_text(color = \"red\", size = 12, face = \"bold\"),\n",
        "  plot.subtitle = element_text(color = \"blue\"),\n",
        "  plot.caption = element_text(color = \"green\", face = \"italic\")\n",
        ") +\n",
        "   scale_y_continuous(breaks=seq(25000,100000,by= 25000))"
      ],
      "metadata": {
        "colab": {
          "base_uri": "https://localhost:8080/",
          "height": 1000
        },
        "id": "HAO3IEfQjjK2",
        "outputId": "eb52271a-96fa-47e2-f06c-ae1b5445004d"
      },
      "execution_count": null,
      "outputs": [
        {
          "output_type": "error",
          "ename": "ERROR",
          "evalue": "ignored",
          "traceback": [
            "\u001b[1m\u001b[33mError\u001b[39m:\u001b[22m\n\u001b[1m\u001b[22m\u001b[33m!\u001b[39m Can't add `scale_y_continuous(breaks = seq(25000, 100000, by =\n  25000))` to a theme object.\nTraceback:\n",
            "1. `+.gg`(theme(plot.title = element_text(color = \"red\", size = 12, \n .     face = \"bold\"), plot.subtitle = element_text(color = \"blue\"), \n .     plot.caption = element_text(color = \"green\", face = \"italic\")), \n .     scale_y_continuous(breaks = seq(25000, 100000, by = 25000)))",
            "2. add_theme(e1, e2, e2name)",
            "3. cli::cli_abort(\"Can't add {.arg {t2name}} to a theme object.\", \n .     call = call)",
            "4. rlang::abort(message, ..., call = call, use_cli_format = TRUE, \n .     .frame = .frame)",
            "5. signal_abort(cnd, .file)"
          ]
        },
        {
          "output_type": "display_data",
          "data": {
            "text/plain": [
              "plot without title"
            ],
            "image/png": "[encoded data removed]"
          },
          "metadata": {
            "image/png": {
              "width": 840,
              "height": 900
            }
          }
        }
      ]
    },
    {
      "cell_type": "markdown",
      "source": [
        "## Correlation"
      ],
      "metadata": {
        "id": "DtY5wDcBb6hQ"
      }
    },
    {
      "cell_type": "code",
      "source": [
        "All_long$Education_Level <-  as.factor(All_long$Education_Level)\n",
        "\n",
        "All_long$Race_Ethnicity <- as.factor( All_long$Race_Ethnicity)"
      ],
      "metadata": {
        "id": "KCDKYX9fjPjZ"
      },
      "execution_count": null,
      "outputs": []
    },
    {
      "cell_type": "code",
      "source": [
        "install.packages('polycor')\n",
        "library(polycor)"
      ],
      "metadata": {
        "colab": {
          "base_uri": "https://localhost:8080/"
        },
        "id": "bN9yOwGEhm3q",
        "outputId": "ca2c234f-b40b-454a-e348-b8c8ea64a6cd"
      },
      "execution_count": null,
      "outputs": [
        {
          "output_type": "stream",
          "name": "stderr",
          "text": [
            "Installing package into ‘/usr/local/lib/R/site-library’\n",
            "(as ‘lib’ is unspecified)\n",
            "\n"
          ]
        }
      ]
    },
    {
      "cell_type": "code",
      "source": [],
      "metadata": {
        "id": "lZD1gg2ijLbs"
      },
      "execution_count": null,
      "outputs": []
    },
    {
      "cell_type": "markdown",
      "source": [
        "## Regression"
      ],
      "metadata": {
        "id": "w7pDmVe5U-e9"
      }
    },
    {
      "cell_type": "markdown",
      "source": [
        "### Simple Linear Regression"
      ],
      "metadata": {
        "id": "u2tJSvtZXRG0"
      }
    },
    {
      "cell_type": "code",
      "source": [
        "mod <- lm(value ~ Race_Ethnicity + Education_Level ,data = All_long)"
      ],
      "metadata": {
        "id": "iJNaSstWUVz0"
      },
      "execution_count": null,
      "outputs": []
    },
    {
      "cell_type": "code",
      "source": [
        "summary(mod)"
      ],
      "metadata": {
        "id": "bYibWznTUVwM"
      },
      "execution_count": null,
      "outputs": []
    },
    {
      "cell_type": "markdown",
      "source": [
        "## Anova\n",
        "\n",
        "https://www.scribbr.com/statistics/anova-in-r/"
      ],
      "metadata": {
        "id": "GpTssHoBIHkd"
      }
    },
    {
      "cell_type": "code",
      "source": [
        "head(All_long,3)"
      ],
      "metadata": {
        "id": "LZTMWgC9IMT1"
      },
      "execution_count": null,
      "outputs": []
    },
    {
      "cell_type": "code",
      "source": [
        "anova_one_ed <- aov( value ~ Education_Level , data = All_long)\n",
        "summary(anova_one_ed)"
      ],
      "metadata": {
        "id": "nnXJVHgUILyj",
        "colab": {
          "base_uri": "https://localhost:8080/",
          "height": 104
        },
        "outputId": "83d22c00-ecb7-4c81-8c47-2e1889912d81"
      },
      "execution_count": null,
      "outputs": [
        {
          "output_type": "display_data",
          "data": {
            "text/plain": [
              "                 Df      Sum Sq     Mean Sq F value              Pr(>F)    \n",
              "Education_Level   1 56120253173 56120253173   834.1 <0.0000000000000002 ***\n",
              "Residuals       306 20588256816    67281885                                \n",
              "---\n",
              "Signif. codes:  0 ‘***’ 0.001 ‘**’ 0.01 ‘*’ 0.05 ‘.’ 0.1 ‘ ’ 1"
            ]
          },
          "metadata": {}
        }
      ]
    },
    {
      "cell_type": "code",
      "source": [
        "anova_one_Race <- aov( value ~  Race_Ethnicity, data = All_long)\n",
        "summary(anova_one_Race )"
      ],
      "metadata": {
        "colab": {
          "base_uri": "https://localhost:8080/",
          "height": 69
        },
        "id": "iF1FC96jP65F",
        "outputId": "62172705-4194-44c1-d51c-99a08f11099c"
      },
      "execution_count": null,
      "outputs": [
        {
          "output_type": "display_data",
          "data": {
            "text/plain": [
              "                Df      Sum Sq   Mean Sq F value Pr(>F)\n",
              "Race_Ethnicity   1    14813689  14813689   0.059  0.808\n",
              "Residuals      306 76693696299 250632994               "
            ]
          },
          "metadata": {}
        }
      ]
    },
    {
      "cell_type": "code",
      "source": [
        "anova_two <- aov( value ~ Education_Level  + Race_Ethnicity , data = All_long)\n",
        "summary(anova_two)"
      ],
      "metadata": {
        "id": "OLggjWnTHoje",
        "colab": {
          "base_uri": "https://localhost:8080/",
          "height": 121
        },
        "outputId": "5c8a8ae6-7f57-48b8-97f0-e85452a7133b"
      },
      "execution_count": null,
      "outputs": [
        {
          "output_type": "display_data",
          "data": {
            "text/plain": [
              "                 Df      Sum Sq     Mean Sq F value              Pr(>F)    \n",
              "Education_Level   1 56120253173 56120253173  831.98 <0.0000000000000002 ***\n",
              "Race_Ethnicity    1    14813689    14813689    0.22                0.64    \n",
              "Residuals       305 20573443126    67453912                                \n",
              "---\n",
              "Signif. codes:  0 ‘***’ 0.001 ‘**’ 0.01 ‘*’ 0.05 ‘.’ 0.1 ‘ ’ 1"
            ]
          },
          "metadata": {}
        }
      ]
    },
    {
      "cell_type": "code",
      "source": [],
      "metadata": {
        "id": "7GIfJCXbHocd"
      },
      "execution_count": null,
      "outputs": []
    },
    {
      "cell_type": "markdown",
      "source": [
        "#  JUNK BELOW"
      ],
      "metadata": {
        "id": "0Ovyp58cHlRx"
      }
    }
  ]
}