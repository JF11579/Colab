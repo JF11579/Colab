{
  "nbformat": 4,
  "nbformat_minor": 0,
  "metadata": {
    "colab": {
      "name": "DataAbstractionWordSearch.ipynb",
      "provenance": [],
      "collapsed_sections": [],
      "authorship_tag": "ABX9TyOksZfJUMxw6wZkQueweH08",
      "include_colab_link": true
    },
    "kernelspec": {
      "name": "python3",
      "display_name": "Python 3"
    },
    "language_info": {
      "name": "python"
    }
  },
  "cells": [
    {
      "cell_type": "markdown",
      "metadata": {
        "id": "view-in-github",
        "colab_type": "text"
      },
      "source": [
        "<a href=\"https://colab.research.google.com/github/JF11579/Colab/blob/main/DataAbstractionWordSearch.ipynb\" target=\"_parent\"><img src=\"https://colab.research.google.com/assets/colab-badge.svg\" alt=\"Open In Colab\"/></a>"
      ]
    },
    {
      "cell_type": "markdown",
      "metadata": {
        "id": "3rpy2lbbVJGR"
      },
      "source": [
        "# DATA ABSTRACTION SPECIALST: Locating text in documents\n",
        "\n",
        "---\n",
        "\n"
      ]
    },
    {
      "cell_type": "markdown",
      "metadata": {
        "id": "NhTfSDHlVjqd"
      },
      "source": [
        "### The *Position Overview* mentions abstracting data from medical examiner's reports and building databases from it.  Below is a demo using some Python code to locate each instance of the  text as well as the sentence it was found in. Conventiantly we can also see the approximate line number the text in question was located on."
      ]
    },
    {
      "cell_type": "markdown",
      "metadata": {
        "id": "TIj7pLsmXclY"
      },
      "source": [
        "Below  we will search for the word \"brain\"."
      ]
    },
    {
      "cell_type": "code",
      "metadata": {
        "id": "3cUe5E-gQV_E"
      },
      "source": [
        "import re"
      ],
      "execution_count": 16,
      "outputs": []
    },
    {
      "cell_type": "markdown",
      "metadata": {
        "id": "3pyU1iS9Xrke"
      },
      "source": [
        "Below we import the medical examiner's report."
      ]
    },
    {
      "cell_type": "code",
      "metadata": {
        "id": "eyWOQJVsQbMd"
      },
      "source": [
        "import io\n",
        "def open_thing_as_file(*args, **kwargs):\n",
        "    fileobj = io.StringIO(\"\"\"\n",
        "   AUTOPSY REPORT\n",
        "Autopsy: BPD110094-67F DECEDENT: John Anderson\n",
        "Autopsy Authorized by: Dr. Smith for City of Indianapolis. Identified by: fingerprints and dental comparison.\n",
        "Rigor: absent\n",
        "Livor: purple Distribution: posterior Age: 34\n",
        "Race: White\n",
        "Sex: Male\n",
        "Length: 72 inches Weight: 185 pounds Eyes: Hazel\n",
        "Hair: Brown Circumcised: Yes\n",
        "Body Heat: Refrigerated\n",
        "CLOTHING:\n",
        "1. Blue dress shirt, blood-stained and scorched. Multiple tears of different sizes on the front. Both lower arms are shredded.\n",
        "2. White T-shirt, blood-stained and scorched with multiple tears of different sizes on the front matching the tears on the blue dress shirt.\n",
        "3. Red tie shredded, scorched and blood-stained.\n",
        "4. Brown pants, blood-stained with irregular tears, scorching, and soot\n",
        "deposition, primarily on the left upper leg and crotch.\n",
        "5. Brown belt.\n",
        "6. White underwear briefs, torn on left side with searing, soot deposition and blood stains.\n",
        "7. Brown socks.\n",
        "8. Black shoes.\n",
        "EXTERNAL EXAMINATION:\n",
        "Well developed, well nourished, white male with multiple blast and fragment injuries including amputations of both upper extremities at mid-forearm with partial fragmentation of the detached portions of the extremities. There are lacerations of face and scalp with fractures of the calvarium, skull base and facial bones. The cranial vault is empty with fragments of brain recovered separately.\n",
        "\n",
        "   There are multiple penetrating fragment injuries of the anterior thorax and left thigh. There are gaping lacerations of the left lower abdomen and thigh with partial evisceration of sigmoid colon and small intestine. The penis and left testicle are absent. There are flash burns of the anterior thorax, face and left thigh.\n",
        "X-RAYS:\n",
        "Total body x-rays demonstrate comminuted fractures of the face and skull, multiple anterior rib fractures, comminuted fractures of pelvis and proximal left femur, amputations of distal upper extremities, and multiple metallic fragments in the head, thorax, and thighs.\n",
        "HISTORY:\n",
        "Injured by exploding package.\n",
        "PATHOLOGICAL DIAGNOSES:\n",
        "1. Blast and fragment injuries to head\n",
        "a. Comminuted fractures of calvarium, skull base and facial bones\n",
        "b. Avulsion and fragmentation of brain\n",
        "c. Avulsion and fragmentation of eyes\n",
        "d. Penetrating fragment injuries to lower face\n",
        "e. Flash burns to lower face\n",
        "2. Blast and fragment injuries to trunk\n",
        "a. Multiple perforation injuries with multiple lacerations of lungs, heart,\n",
        "liver, spleen, and intestines\n",
        "b. Multiple fractures and perforations of anterior ribs and sternum\n",
        "c. Laceration of left lower abdominal wall with partial evisceration of\n",
        "small intestine, mesentery, and colon\n",
        "d. Flash burns to anterior thorax\n",
        "e. Comminuted fractures of left ilium, ischium and pubic ramus with\n",
        "separations of the sacro-iliac joints and pubic symphysis.\n",
        "f. Multiple metal fragments recovered from thorax, abdomen and\n",
        "pelvis.\n",
        "3. Blast and fragment injuries to extremities\n",
        "a. Amputation of right hand and forearm with avulsion and searing of muscle and connective tissue\n",
        "b. Amputation and fragmentation of left hand and forearm with avulsion and searing of muscle and connective tissue\n",
        "c. Multiple penetrating fragment injuries to anterior surface of right arm\n",
        "\n",
        "   d. Comminution of left proximal femur with partial avulsion and searing of muscle and soft tissue.\n",
        "e. Multiple metal fragments recovered from soft tissues of left thigh\n",
        "4. Toxicology\n",
        "a. Blood carboxyhemoglobin less than 5% saturation\n",
        "b. Blood and vitreous fluid negative for alcohols\n",
        "c. Blood negative for acidic, basic and neutral drugs\n",
        "CAUSE OF DEATH\n",
        "Blast and penetrating fragment injuries due to explosion.\n",
        "GROSS DESCRIPTION\n",
        "SKIN:\n",
        "Multiple lacerations and perforations with irregular edges, searing and soot deposition\n",
        "PLEURA: 200 mL blood right, 300 mL blood left, 2 deformed nails recovered from right pleural cavity, 5 x 2 inch threaded metal fragment recovered from left pleural cavity. Multiple smaller metal fragments recovered from both pleural cavities.\n",
        "PERITONEUM: 100 mL blood, multiple metal fragments recovered PERICARDIUM: Multiple lacerations.\n",
        "HEART: 380 grams. Normal size and shape, coronary arteries within normal limits. Multiple lacerations of right and left ventricles. Laceration of aortic root.\n",
        "AORTA: Laceration of aortic root. Multiple lacerations of lower abdominal aorta. Left iliac and femoral vessels fragmented.\n",
        "NECK ORGANS: There are superficial penetrating fragment injuries on the anterior aspects of the neck with hemorrhage in the soft tissues adjacent to the wounds. Laryngeal cartilages, hyoid bone and cervical spine intact. Thyroid within normal limits. Airway free of blood and foreign material.\n",
        "LUNGS: 930 grams combined. Multiple lacerations of upper lobes and right middle lobe. Parenchyma aerated with a few apical bullae.\n",
        "LYMPH NODES: Within normal limits.\n",
        "\n",
        "\n",
        "   LIVER: 1650 grams. Multiple lacerations with partial pulpifaction of parenchyma.\n",
        "GALLBLADDER: Contains bile. No stones.\n",
        "SPLEEN: 130 grams. Multiple lacerations and partial pulpifaction.\n",
        "PANCREAS: Usual external configuration and pale tan on cut section with the usual lobular architecture.\n",
        "ADRENAL GLANDS: Within normal limits.\n",
        "GI TRACT: There are fractures of the maxilla and mandible. The tongue is without injury. The pharynx and esophagus are unremarkable. The stomach is empty and there are multiple lacerations of the gastric wall. There are multiple lacerations and perforations of the mesentery, small intestine, and colon. The appendix is present.\n",
        "KIDNEYS: 320 grams combined. There is hemorrhage in the perirenal soft tissues. The capsules strip with ease. The cortical surface is smooth. On cross section the cortices are of normal thickness and the pyramids and collecting systems are unremarkable. There are no stones or focal lesions. The ureters are intact.\n",
        "BLADDER: Multiple lacerations of the wall.\n",
        "GENITALIA: Lacerations of left scrotum with avulsion of left testicle and penis. Prostate unremarkable.\n",
        "BRAIN & MENINGES: Brain absent. 950 grams of brain fragments submitted separately.\n",
        "SKULL: Comminuted fractures of calvarium, skull base, and facial bones including mandible and maxilla.\n",
        "PELVIS: Comminuted fractures of left ileum, left ischium, left pubic ramus. Separations of pubic symphysis and sacro-iliac joints.\n",
        "RIBS: Perforations and fractures of anterior ribs and sternum. VERTEBRAE: Within normal limits\n",
        "EXTREMITIES: Amputations of right and left hands and forearms, Comminuted fractures of left proximal femur.\n",
        "MICROSCOPIC SECTIONS: Heart, lung, liver\n",
        "\n",
        "   OTHER LAB PROCEDURES: Toxicology, Photography, X-ray, Microscopic Examination.\n",
        "DISPOSITION OF EVIDENCE:\n",
        "TOXICOLOGY: blood, vitreous, liver, bile, urine. INVESTIGATOR: Clothing, recovered fragments.\n",
        "MICROSCOPIC DESCRIPTION\n",
        "HEART:\n",
        "LUNGS: areas.\n",
        "LIVER:\n",
        "SUMMARY:\n",
        "This 34 year old white man died instantly from multiple blast and fragment injuries when a package exploded in his home.\n",
        "CAUSE OF DEATH:\n",
        "Blast and fragment injuries.\n",
        "MANNER OF DEATH:\n",
        "Homicide\n",
        "Fragmentation and parenchymal hemorrhage\n",
        "Lacerations and parenchymal hemorrhage. Focal emphysematous\n",
        "Fragmentation and parenchymal hemorrhage.\"\"\")\n",
        "\n",
        "    return fileobj"
      ],
      "execution_count": 13,
      "outputs": []
    },
    {
      "cell_type": "markdown",
      "metadata": {
        "id": "a7I4c2W-YCat"
      },
      "source": [
        "Whatever word or phrase we are interested in we enter below."
      ]
    },
    {
      "cell_type": "code",
      "metadata": {
        "id": "CGz_LOm-SOOP"
      },
      "source": [
        "pattern  = 'BRAIN'"
      ],
      "execution_count": 21,
      "outputs": []
    },
    {
      "cell_type": "code",
      "metadata": {
        "id": "2N_cL0_tUH-7"
      },
      "source": [
        "\n",
        "filename = '/content/Autopsy_report.txt'"
      ],
      "execution_count": 22,
      "outputs": []
    },
    {
      "cell_type": "code",
      "metadata": {
        "colab": {
          "base_uri": "https://localhost:8080/",
          "height": 0
        },
        "id": "VBy5FX5wSr5_",
        "outputId": "168792cc-8fc4-485b-fa8f-f74faea92ab8"
      },
      "source": [
        "\n",
        "with open_thing_as_file(filename, 'r') as f:\n",
        "   # Read the file contents and generate a list with each line\n",
        "   # lines = f.readlines()\n",
        "   # Basic solution: iterate over the open file (ie iterates over the lines in the file)\n",
        "   for index, line in enumerate(f): \n",
        "       # Now perform the matching. To simply see if text is in a line, use `text in line`, e.g. \n",
        "       if pattern in line:\n",
        "           print(\"L\", index, \"BASIC 'in' VERSION\")\n",
        "           print(line)\n",
        "       # Or if more advanced pattern matching is needed, use that, e.g. \n",
        "       if re.findall(pattern, line):\n",
        "           print(\"L\", index, \"RE VERSION\")\n",
        "           print(line) "
      ],
      "execution_count": 23,
      "outputs": [
        {
          "output_type": "stream",
          "text": [
            "L 81 BASIC 'in' VERSION\n",
            "BRAIN & MENINGES: Brain absent. 950 grams of brain fragments submitted separately.\n",
            "\n",
            "L 81 RE VERSION\n",
            "BRAIN & MENINGES: Brain absent. 950 grams of brain fragments submitted separately.\n",
            "\n"
          ],
          "name": "stdout"
        }
      ]
    },
    {
      "cell_type": "markdown",
      "metadata": {
        "id": "3t2l_n8rYQ4I"
      },
      "source": [
        "Here we search for a phrase:"
      ]
    },
    {
      "cell_type": "code",
      "metadata": {
        "id": "ex4Z6WRBYTRb"
      },
      "source": [
        "pattern  = 'penetrating fragment'"
      ],
      "execution_count": 24,
      "outputs": []
    },
    {
      "cell_type": "markdown",
      "metadata": {
        "id": "K1Ems1RPYyB7"
      },
      "source": [
        ""
      ]
    },
    {
      "cell_type": "code",
      "metadata": {
        "id": "zdBc1XuPYhg5"
      },
      "source": [
        "filename = '/content/Autopsy_report.txt'"
      ],
      "execution_count": null,
      "outputs": []
    },
    {
      "cell_type": "markdown",
      "metadata": {
        "id": "bLWcduxTYq0X"
      },
      "source": [
        "Below are the results.  Note the appx line number is also returned."
      ]
    },
    {
      "cell_type": "code",
      "metadata": {
        "colab": {
          "base_uri": "https://localhost:8080/",
          "height": 0
        },
        "id": "Nf52EuvmYiXY",
        "outputId": "495874bc-af4f-4b61-8f7a-b37310901230"
      },
      "source": [
        "with open_thing_as_file(filename, 'r') as f:\n",
        "   # Read the file contents and generate a list with each line\n",
        "   # lines = f.readlines()\n",
        "   # Basic solution: iterate over the open file (ie iterates over the lines in the file)\n",
        "   for index, line in enumerate(f): \n",
        "       # Now perform the matching. To simply see if text is in a line, use `text in line`, e.g. \n",
        "       if pattern in line:\n",
        "           print(\"L\", index, \"BASIC 'in' VERSION\")\n",
        "           print(line)\n",
        "       # Or if more advanced pattern matching is needed, use that, e.g. \n",
        "       if re.findall(pattern, line):\n",
        "           print(\"L\", index, \"RE VERSION\")\n",
        "           print(line) "
      ],
      "execution_count": 25,
      "outputs": [
        {
          "output_type": "stream",
          "text": [
            "L 24 BASIC 'in' VERSION\n",
            "   There are multiple penetrating fragment injuries of the anterior thorax and left thigh. There are gaping lacerations of the left lower abdomen and thigh with partial evisceration of sigmoid colon and small intestine. The penis and left testicle are absent. There are flash burns of the anterior thorax, face and left thigh.\n",
            "\n",
            "L 24 RE VERSION\n",
            "   There are multiple penetrating fragment injuries of the anterior thorax and left thigh. There are gaping lacerations of the left lower abdomen and thigh with partial evisceration of sigmoid colon and small intestine. The penis and left testicle are absent. There are flash burns of the anterior thorax, face and left thigh.\n",
            "\n",
            "L 50 BASIC 'in' VERSION\n",
            "c. Multiple penetrating fragment injuries to anterior surface of right arm\n",
            "\n",
            "L 50 RE VERSION\n",
            "c. Multiple penetrating fragment injuries to anterior surface of right arm\n",
            "\n",
            "L 59 BASIC 'in' VERSION\n",
            "Blast and penetrating fragment injuries due to explosion.\n",
            "\n",
            "L 59 RE VERSION\n",
            "Blast and penetrating fragment injuries due to explosion.\n",
            "\n",
            "L 67 BASIC 'in' VERSION\n",
            "NECK ORGANS: There are superficial penetrating fragment injuries on the anterior aspects of the neck with hemorrhage in the soft tissues adjacent to the wounds. Laryngeal cartilages, hyoid bone and cervical spine intact. Thyroid within normal limits. Airway free of blood and foreign material.\n",
            "\n",
            "L 67 RE VERSION\n",
            "NECK ORGANS: There are superficial penetrating fragment injuries on the anterior aspects of the neck with hemorrhage in the soft tissues adjacent to the wounds. Laryngeal cartilages, hyoid bone and cervical spine intact. Thyroid within normal limits. Airway free of blood and foreign material.\n",
            "\n"
          ],
          "name": "stdout"
        }
      ]
    }
  ]
}