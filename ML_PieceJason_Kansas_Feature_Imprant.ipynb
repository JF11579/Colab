{
  "nbformat": 4,
  "nbformat_minor": 0,
  "metadata": {
    "colab": {
      "name": "ML_PieceJason_Kansas_Feature Imprant.ipynb",
      "provenance": [],
      "collapsed_sections": [],
      "authorship_tag": "ABX9TyMjryboxRuKe+87JkH434Ck",
      "include_colab_link": true
    },
    "kernelspec": {
      "name": "python3",
      "display_name": "Python 3"
    },
    "language_info": {
      "name": "python"
    }
  },
  "cells": [
    {
      "cell_type": "markdown",
      "metadata": {
        "id": "view-in-github",
        "colab_type": "text"
      },
      "source": [
        "<a href=\"https://colab.research.google.com/github/JF11579/Colab/blob/main/ML_PieceJason_Kansas_Feature_Imprant.ipynb\" target=\"_parent\"><img src=\"https://colab.research.google.com/assets/colab-badge.svg\" alt=\"Open In Colab\"/></a>"
      ]
    },
    {
      "cell_type": "markdown",
      "metadata": {
        "id": "zh3fQ454xpVY"
      },
      "source": [
        "### Here I apply Jasons ML book to the KS data but incorporate graphing feature importance."
      ]
    },
    {
      "cell_type": "markdown",
      "metadata": {
        "id": "JeTlLhqD3CKf"
      },
      "source": [
        "# To get equation of the line for Linear Regress :\n",
        "\n",
        "params = model.coef_"
      ]
    },
    {
      "cell_type": "markdown",
      "metadata": {
        "id": "_vHSuMS08fTQ"
      },
      "source": [
        "Get equation of the line for the KC data using linear rgress.  Feature importance.\n",
        "\n",
        "then scale the data and see if it is improved.\n",
        "\n",
        "Then add in  or better make sepearate model adding time series census data such as race and household income, job."
      ]
    },
    {
      "cell_type": "code",
      "metadata": {
        "id": "UDlpvKKWxfgP"
      },
      "source": [
        "import pandas as pd"
      ],
      "execution_count": 8,
      "outputs": []
    },
    {
      "cell_type": "code",
      "metadata": {
        "colab": {
          "base_uri": "https://localhost:8080/",
          "height": 224
        },
        "id": "AokmTeHLx7hy",
        "outputId": "aaad435c-6df2-4fb4-bde5-0e6ba699ef65"
      },
      "source": [
        "# KC housing data\n",
        "df = pd.read_csv(\"/content/kc_house_data - kc_house_data.csv\")\n",
        "df.head()"
      ],
      "execution_count": 2,
      "outputs": [
        {
          "output_type": "execute_result",
          "data": {
            "text/html": [
              "<div>\n",
              "<style scoped>\n",
              "    .dataframe tbody tr th:only-of-type {\n",
              "        vertical-align: middle;\n",
              "    }\n",
              "\n",
              "    .dataframe tbody tr th {\n",
              "        vertical-align: top;\n",
              "    }\n",
              "\n",
              "    .dataframe thead th {\n",
              "        text-align: right;\n",
              "    }\n",
              "</style>\n",
              "<table border=\"1\" class=\"dataframe\">\n",
              "  <thead>\n",
              "    <tr style=\"text-align: right;\">\n",
              "      <th></th>\n",
              "      <th>id</th>\n",
              "      <th>date</th>\n",
              "      <th>price</th>\n",
              "      <th>bedrooms</th>\n",
              "      <th>bathrooms</th>\n",
              "      <th>sqft_living</th>\n",
              "      <th>sqft_lot</th>\n",
              "      <th>floors</th>\n",
              "      <th>waterfront</th>\n",
              "      <th>view</th>\n",
              "      <th>condition</th>\n",
              "      <th>grade</th>\n",
              "      <th>sqft_above</th>\n",
              "      <th>sqft_basement</th>\n",
              "      <th>yr_built</th>\n",
              "      <th>yr_renovated</th>\n",
              "      <th>zipcode</th>\n",
              "      <th>lat</th>\n",
              "      <th>long</th>\n",
              "      <th>sqft_living15</th>\n",
              "      <th>sqft_lot15</th>\n",
              "    </tr>\n",
              "  </thead>\n",
              "  <tbody>\n",
              "    <tr>\n",
              "      <th>0</th>\n",
              "      <td>7129300520</td>\n",
              "      <td>20141013T000000</td>\n",
              "      <td>221900</td>\n",
              "      <td>3</td>\n",
              "      <td>1.00</td>\n",
              "      <td>1180</td>\n",
              "      <td>5650</td>\n",
              "      <td>1.0</td>\n",
              "      <td>0</td>\n",
              "      <td>0</td>\n",
              "      <td>3</td>\n",
              "      <td>7</td>\n",
              "      <td>1180</td>\n",
              "      <td>0</td>\n",
              "      <td>1955</td>\n",
              "      <td>0</td>\n",
              "      <td>98178</td>\n",
              "      <td>47.5112</td>\n",
              "      <td>-122.257</td>\n",
              "      <td>1340</td>\n",
              "      <td>5650</td>\n",
              "    </tr>\n",
              "    <tr>\n",
              "      <th>1</th>\n",
              "      <td>6414100192</td>\n",
              "      <td>20141209T000000</td>\n",
              "      <td>538000</td>\n",
              "      <td>3</td>\n",
              "      <td>2.25</td>\n",
              "      <td>2570</td>\n",
              "      <td>7242</td>\n",
              "      <td>2.0</td>\n",
              "      <td>0</td>\n",
              "      <td>0</td>\n",
              "      <td>3</td>\n",
              "      <td>7</td>\n",
              "      <td>2170</td>\n",
              "      <td>400</td>\n",
              "      <td>1951</td>\n",
              "      <td>1991</td>\n",
              "      <td>98125</td>\n",
              "      <td>47.7210</td>\n",
              "      <td>-122.319</td>\n",
              "      <td>1690</td>\n",
              "      <td>7639</td>\n",
              "    </tr>\n",
              "    <tr>\n",
              "      <th>2</th>\n",
              "      <td>5631500400</td>\n",
              "      <td>20150225T000000</td>\n",
              "      <td>180000</td>\n",
              "      <td>2</td>\n",
              "      <td>1.00</td>\n",
              "      <td>770</td>\n",
              "      <td>10000</td>\n",
              "      <td>1.0</td>\n",
              "      <td>0</td>\n",
              "      <td>0</td>\n",
              "      <td>3</td>\n",
              "      <td>6</td>\n",
              "      <td>770</td>\n",
              "      <td>0</td>\n",
              "      <td>1933</td>\n",
              "      <td>0</td>\n",
              "      <td>98028</td>\n",
              "      <td>47.7379</td>\n",
              "      <td>-122.233</td>\n",
              "      <td>2720</td>\n",
              "      <td>8062</td>\n",
              "    </tr>\n",
              "    <tr>\n",
              "      <th>3</th>\n",
              "      <td>2487200875</td>\n",
              "      <td>20141209T000000</td>\n",
              "      <td>604000</td>\n",
              "      <td>4</td>\n",
              "      <td>3.00</td>\n",
              "      <td>1960</td>\n",
              "      <td>5000</td>\n",
              "      <td>1.0</td>\n",
              "      <td>0</td>\n",
              "      <td>0</td>\n",
              "      <td>5</td>\n",
              "      <td>7</td>\n",
              "      <td>1050</td>\n",
              "      <td>910</td>\n",
              "      <td>1965</td>\n",
              "      <td>0</td>\n",
              "      <td>98136</td>\n",
              "      <td>47.5208</td>\n",
              "      <td>-122.393</td>\n",
              "      <td>1360</td>\n",
              "      <td>5000</td>\n",
              "    </tr>\n",
              "    <tr>\n",
              "      <th>4</th>\n",
              "      <td>1954400510</td>\n",
              "      <td>20150218T000000</td>\n",
              "      <td>510000</td>\n",
              "      <td>3</td>\n",
              "      <td>2.00</td>\n",
              "      <td>1680</td>\n",
              "      <td>8080</td>\n",
              "      <td>1.0</td>\n",
              "      <td>0</td>\n",
              "      <td>0</td>\n",
              "      <td>3</td>\n",
              "      <td>8</td>\n",
              "      <td>1680</td>\n",
              "      <td>0</td>\n",
              "      <td>1987</td>\n",
              "      <td>0</td>\n",
              "      <td>98074</td>\n",
              "      <td>47.6168</td>\n",
              "      <td>-122.045</td>\n",
              "      <td>1800</td>\n",
              "      <td>7503</td>\n",
              "    </tr>\n",
              "  </tbody>\n",
              "</table>\n",
              "</div>"
            ],
            "text/plain": [
              "           id             date   price  ...     long  sqft_living15  sqft_lot15\n",
              "0  7129300520  20141013T000000  221900  ... -122.257           1340        5650\n",
              "1  6414100192  20141209T000000  538000  ... -122.319           1690        7639\n",
              "2  5631500400  20150225T000000  180000  ... -122.233           2720        8062\n",
              "3  2487200875  20141209T000000  604000  ... -122.393           1360        5000\n",
              "4  1954400510  20150218T000000  510000  ... -122.045           1800        7503\n",
              "\n",
              "[5 rows x 21 columns]"
            ]
          },
          "metadata": {
            "tags": []
          },
          "execution_count": 2
        }
      ]
    },
    {
      "cell_type": "code",
      "metadata": {
        "colab": {
          "base_uri": "https://localhost:8080/"
        },
        "id": "1Itt5Eskyj0B",
        "outputId": "e6892552-ae85-44a3-b2aa-ae7768ca5c74"
      },
      "source": [
        "df.shape"
      ],
      "execution_count": 3,
      "outputs": [
        {
          "output_type": "execute_result",
          "data": {
            "text/plain": [
              "(21613, 21)"
            ]
          },
          "metadata": {
            "tags": []
          },
          "execution_count": 3
        }
      ]
    },
    {
      "cell_type": "code",
      "metadata": {
        "colab": {
          "base_uri": "https://localhost:8080/",
          "height": 317
        },
        "id": "76zWbe3Bykne",
        "outputId": "5963fffe-698f-483f-dbb8-3f889eebafc4"
      },
      "source": [
        "df.describe()"
      ],
      "execution_count": 4,
      "outputs": [
        {
          "output_type": "execute_result",
          "data": {
            "text/html": [
              "<div>\n",
              "<style scoped>\n",
              "    .dataframe tbody tr th:only-of-type {\n",
              "        vertical-align: middle;\n",
              "    }\n",
              "\n",
              "    .dataframe tbody tr th {\n",
              "        vertical-align: top;\n",
              "    }\n",
              "\n",
              "    .dataframe thead th {\n",
              "        text-align: right;\n",
              "    }\n",
              "</style>\n",
              "<table border=\"1\" class=\"dataframe\">\n",
              "  <thead>\n",
              "    <tr style=\"text-align: right;\">\n",
              "      <th></th>\n",
              "      <th>id</th>\n",
              "      <th>price</th>\n",
              "      <th>bedrooms</th>\n",
              "      <th>bathrooms</th>\n",
              "      <th>sqft_living</th>\n",
              "      <th>sqft_lot</th>\n",
              "      <th>floors</th>\n",
              "      <th>waterfront</th>\n",
              "      <th>view</th>\n",
              "      <th>condition</th>\n",
              "      <th>grade</th>\n",
              "      <th>sqft_above</th>\n",
              "      <th>sqft_basement</th>\n",
              "      <th>yr_built</th>\n",
              "      <th>yr_renovated</th>\n",
              "      <th>zipcode</th>\n",
              "      <th>lat</th>\n",
              "      <th>long</th>\n",
              "      <th>sqft_living15</th>\n",
              "      <th>sqft_lot15</th>\n",
              "    </tr>\n",
              "  </thead>\n",
              "  <tbody>\n",
              "    <tr>\n",
              "      <th>count</th>\n",
              "      <td>2.161300e+04</td>\n",
              "      <td>2.161300e+04</td>\n",
              "      <td>21613.000000</td>\n",
              "      <td>21613.000000</td>\n",
              "      <td>21613.000000</td>\n",
              "      <td>2.161300e+04</td>\n",
              "      <td>21613.000000</td>\n",
              "      <td>21613.000000</td>\n",
              "      <td>21613.000000</td>\n",
              "      <td>21613.000000</td>\n",
              "      <td>21613.000000</td>\n",
              "      <td>21613.000000</td>\n",
              "      <td>21613.000000</td>\n",
              "      <td>21613.000000</td>\n",
              "      <td>21613.000000</td>\n",
              "      <td>21613.000000</td>\n",
              "      <td>21613.000000</td>\n",
              "      <td>21613.000000</td>\n",
              "      <td>21613.000000</td>\n",
              "      <td>21613.000000</td>\n",
              "    </tr>\n",
              "    <tr>\n",
              "      <th>mean</th>\n",
              "      <td>4.580302e+09</td>\n",
              "      <td>5.400881e+05</td>\n",
              "      <td>3.370842</td>\n",
              "      <td>2.114757</td>\n",
              "      <td>2079.899736</td>\n",
              "      <td>1.510697e+04</td>\n",
              "      <td>1.494309</td>\n",
              "      <td>0.007542</td>\n",
              "      <td>0.234303</td>\n",
              "      <td>3.409430</td>\n",
              "      <td>7.656873</td>\n",
              "      <td>1788.390691</td>\n",
              "      <td>291.509045</td>\n",
              "      <td>1971.005136</td>\n",
              "      <td>84.402258</td>\n",
              "      <td>98077.939805</td>\n",
              "      <td>47.560053</td>\n",
              "      <td>-122.213896</td>\n",
              "      <td>1986.552492</td>\n",
              "      <td>12768.455652</td>\n",
              "    </tr>\n",
              "    <tr>\n",
              "      <th>std</th>\n",
              "      <td>2.876566e+09</td>\n",
              "      <td>3.671272e+05</td>\n",
              "      <td>0.930062</td>\n",
              "      <td>0.770163</td>\n",
              "      <td>918.440897</td>\n",
              "      <td>4.142051e+04</td>\n",
              "      <td>0.539989</td>\n",
              "      <td>0.086517</td>\n",
              "      <td>0.766318</td>\n",
              "      <td>0.650743</td>\n",
              "      <td>1.175459</td>\n",
              "      <td>828.090978</td>\n",
              "      <td>442.575043</td>\n",
              "      <td>29.373411</td>\n",
              "      <td>401.679240</td>\n",
              "      <td>53.505026</td>\n",
              "      <td>0.138564</td>\n",
              "      <td>0.140828</td>\n",
              "      <td>685.391304</td>\n",
              "      <td>27304.179631</td>\n",
              "    </tr>\n",
              "    <tr>\n",
              "      <th>min</th>\n",
              "      <td>1.000102e+06</td>\n",
              "      <td>7.500000e+04</td>\n",
              "      <td>0.000000</td>\n",
              "      <td>0.000000</td>\n",
              "      <td>290.000000</td>\n",
              "      <td>5.200000e+02</td>\n",
              "      <td>1.000000</td>\n",
              "      <td>0.000000</td>\n",
              "      <td>0.000000</td>\n",
              "      <td>1.000000</td>\n",
              "      <td>1.000000</td>\n",
              "      <td>290.000000</td>\n",
              "      <td>0.000000</td>\n",
              "      <td>1900.000000</td>\n",
              "      <td>0.000000</td>\n",
              "      <td>98001.000000</td>\n",
              "      <td>47.155900</td>\n",
              "      <td>-122.519000</td>\n",
              "      <td>399.000000</td>\n",
              "      <td>651.000000</td>\n",
              "    </tr>\n",
              "    <tr>\n",
              "      <th>25%</th>\n",
              "      <td>2.123049e+09</td>\n",
              "      <td>3.219500e+05</td>\n",
              "      <td>3.000000</td>\n",
              "      <td>1.750000</td>\n",
              "      <td>1427.000000</td>\n",
              "      <td>5.040000e+03</td>\n",
              "      <td>1.000000</td>\n",
              "      <td>0.000000</td>\n",
              "      <td>0.000000</td>\n",
              "      <td>3.000000</td>\n",
              "      <td>7.000000</td>\n",
              "      <td>1190.000000</td>\n",
              "      <td>0.000000</td>\n",
              "      <td>1951.000000</td>\n",
              "      <td>0.000000</td>\n",
              "      <td>98033.000000</td>\n",
              "      <td>47.471000</td>\n",
              "      <td>-122.328000</td>\n",
              "      <td>1490.000000</td>\n",
              "      <td>5100.000000</td>\n",
              "    </tr>\n",
              "    <tr>\n",
              "      <th>50%</th>\n",
              "      <td>3.904930e+09</td>\n",
              "      <td>4.500000e+05</td>\n",
              "      <td>3.000000</td>\n",
              "      <td>2.250000</td>\n",
              "      <td>1910.000000</td>\n",
              "      <td>7.618000e+03</td>\n",
              "      <td>1.500000</td>\n",
              "      <td>0.000000</td>\n",
              "      <td>0.000000</td>\n",
              "      <td>3.000000</td>\n",
              "      <td>7.000000</td>\n",
              "      <td>1560.000000</td>\n",
              "      <td>0.000000</td>\n",
              "      <td>1975.000000</td>\n",
              "      <td>0.000000</td>\n",
              "      <td>98065.000000</td>\n",
              "      <td>47.571800</td>\n",
              "      <td>-122.230000</td>\n",
              "      <td>1840.000000</td>\n",
              "      <td>7620.000000</td>\n",
              "    </tr>\n",
              "    <tr>\n",
              "      <th>75%</th>\n",
              "      <td>7.308900e+09</td>\n",
              "      <td>6.450000e+05</td>\n",
              "      <td>4.000000</td>\n",
              "      <td>2.500000</td>\n",
              "      <td>2550.000000</td>\n",
              "      <td>1.068800e+04</td>\n",
              "      <td>2.000000</td>\n",
              "      <td>0.000000</td>\n",
              "      <td>0.000000</td>\n",
              "      <td>4.000000</td>\n",
              "      <td>8.000000</td>\n",
              "      <td>2210.000000</td>\n",
              "      <td>560.000000</td>\n",
              "      <td>1997.000000</td>\n",
              "      <td>0.000000</td>\n",
              "      <td>98118.000000</td>\n",
              "      <td>47.678000</td>\n",
              "      <td>-122.125000</td>\n",
              "      <td>2360.000000</td>\n",
              "      <td>10083.000000</td>\n",
              "    </tr>\n",
              "    <tr>\n",
              "      <th>max</th>\n",
              "      <td>9.900000e+09</td>\n",
              "      <td>7.700000e+06</td>\n",
              "      <td>33.000000</td>\n",
              "      <td>8.000000</td>\n",
              "      <td>13540.000000</td>\n",
              "      <td>1.651359e+06</td>\n",
              "      <td>3.500000</td>\n",
              "      <td>1.000000</td>\n",
              "      <td>4.000000</td>\n",
              "      <td>5.000000</td>\n",
              "      <td>13.000000</td>\n",
              "      <td>9410.000000</td>\n",
              "      <td>4820.000000</td>\n",
              "      <td>2015.000000</td>\n",
              "      <td>2015.000000</td>\n",
              "      <td>98199.000000</td>\n",
              "      <td>47.777600</td>\n",
              "      <td>-121.315000</td>\n",
              "      <td>6210.000000</td>\n",
              "      <td>871200.000000</td>\n",
              "    </tr>\n",
              "  </tbody>\n",
              "</table>\n",
              "</div>"
            ],
            "text/plain": [
              "                 id         price  ...  sqft_living15     sqft_lot15\n",
              "count  2.161300e+04  2.161300e+04  ...   21613.000000   21613.000000\n",
              "mean   4.580302e+09  5.400881e+05  ...    1986.552492   12768.455652\n",
              "std    2.876566e+09  3.671272e+05  ...     685.391304   27304.179631\n",
              "min    1.000102e+06  7.500000e+04  ...     399.000000     651.000000\n",
              "25%    2.123049e+09  3.219500e+05  ...    1490.000000    5100.000000\n",
              "50%    3.904930e+09  4.500000e+05  ...    1840.000000    7620.000000\n",
              "75%    7.308900e+09  6.450000e+05  ...    2360.000000   10083.000000\n",
              "max    9.900000e+09  7.700000e+06  ...    6210.000000  871200.000000\n",
              "\n",
              "[8 rows x 20 columns]"
            ]
          },
          "metadata": {
            "tags": []
          },
          "execution_count": 4
        }
      ]
    },
    {
      "cell_type": "code",
      "metadata": {
        "colab": {
          "base_uri": "https://localhost:8080/"
        },
        "id": "LLtaNob9yoDd",
        "outputId": "85df224d-683f-4527-ddd6-2105851e3d86"
      },
      "source": [
        "df.info()"
      ],
      "execution_count": 5,
      "outputs": [
        {
          "output_type": "stream",
          "text": [
            "<class 'pandas.core.frame.DataFrame'>\n",
            "RangeIndex: 21613 entries, 0 to 21612\n",
            "Data columns (total 21 columns):\n",
            " #   Column         Non-Null Count  Dtype  \n",
            "---  ------         --------------  -----  \n",
            " 0   id             21613 non-null  int64  \n",
            " 1   date           21613 non-null  object \n",
            " 2   price          21613 non-null  int64  \n",
            " 3   bedrooms       21613 non-null  int64  \n",
            " 4   bathrooms      21613 non-null  float64\n",
            " 5   sqft_living    21613 non-null  int64  \n",
            " 6   sqft_lot       21613 non-null  int64  \n",
            " 7   floors         21613 non-null  float64\n",
            " 8   waterfront     21613 non-null  int64  \n",
            " 9   view           21613 non-null  int64  \n",
            " 10  condition      21613 non-null  int64  \n",
            " 11  grade          21613 non-null  int64  \n",
            " 12  sqft_above     21613 non-null  int64  \n",
            " 13  sqft_basement  21613 non-null  int64  \n",
            " 14  yr_built       21613 non-null  int64  \n",
            " 15  yr_renovated   21613 non-null  int64  \n",
            " 16  zipcode        21613 non-null  int64  \n",
            " 17  lat            21613 non-null  float64\n",
            " 18  long           21613 non-null  float64\n",
            " 19  sqft_living15  21613 non-null  int64  \n",
            " 20  sqft_lot15     21613 non-null  int64  \n",
            "dtypes: float64(4), int64(16), object(1)\n",
            "memory usage: 3.5+ MB\n"
          ],
          "name": "stdout"
        }
      ]
    },
    {
      "cell_type": "markdown",
      "metadata": {
        "id": "gm6e3vnZ0QFQ"
      },
      "source": [
        "Linear Regression benefits from scaling the data to btwn 0-1.  Let us run a correlation to see which variables we wshould focus on."
      ]
    },
    {
      "cell_type": "code",
      "metadata": {
        "colab": {
          "base_uri": "https://localhost:8080/"
        },
        "id": "atHM56AryrP1",
        "outputId": "e467de9c-d695-4244-fd14-8dc44387eda6"
      },
      "source": [
        "\n",
        "pd.set_option('display.max_rows', 500)\n",
        "pd.set_option('display.max_columns', 500)\n",
        "pd.set_option('display.width', 1000)\n",
        "#set_option('precision', 3)\n",
        "correlations = df.corr(method='pearson')\n",
        "print(correlations)"
      ],
      "execution_count": 11,
      "outputs": [
        {
          "output_type": "stream",
          "text": [
            "                     id     price  bedrooms  bathrooms  sqft_living  sqft_lot    floors  waterfront      view  condition     grade  sqft_above  sqft_basement  yr_built  yr_renovated   zipcode       lat      long  sqft_living15  sqft_lot15\n",
            "id             1.000000 -0.016762  0.001286   0.005160    -0.012258 -0.132109  0.018525   -0.002721  0.011592  -0.023783  0.008130   -0.010842      -0.005151  0.021380     -0.016907 -0.008224 -0.001891  0.020799      -0.002901   -0.138798\n",
            "price         -0.016762  1.000000  0.308350   0.525138     0.702035  0.089661  0.256794    0.266369  0.397293   0.036362  0.667434    0.605567       0.323816  0.054012      0.126434 -0.053203  0.307003  0.021626       0.585379    0.082447\n",
            "bedrooms       0.001286  0.308350  1.000000   0.515884     0.576671  0.031703  0.175429   -0.006582  0.079532   0.028472  0.356967    0.477600       0.303093  0.154178      0.018841 -0.152668 -0.008931  0.129473       0.391638    0.029244\n",
            "bathrooms      0.005160  0.525138  0.515884   1.000000     0.754665  0.087740  0.500653    0.063744  0.187737  -0.124982  0.664983    0.685342       0.283770  0.506019      0.050739 -0.203866  0.024573  0.223042       0.568634    0.087175\n",
            "sqft_living   -0.012258  0.702035  0.576671   0.754665     1.000000  0.172826  0.353949    0.103818  0.284611  -0.058753  0.762704    0.876597       0.435043  0.318049      0.055363 -0.199430  0.052529  0.240223       0.756420    0.183286\n",
            "sqft_lot      -0.132109  0.089661  0.031703   0.087740     0.172826  1.000000 -0.005201    0.021604  0.074710  -0.008958  0.113621    0.183512       0.015286  0.053080      0.007644 -0.129574 -0.085683  0.229521       0.144608    0.718557\n",
            "floors         0.018525  0.256794  0.175429   0.500653     0.353949 -0.005201  1.000000    0.023698  0.029444  -0.263768  0.458183    0.523885      -0.245705  0.489319      0.006338 -0.059121  0.049614  0.125419       0.279885   -0.011269\n",
            "waterfront    -0.002721  0.266369 -0.006582   0.063744     0.103818  0.021604  0.023698    1.000000  0.401857   0.016653  0.082775    0.072075       0.080588 -0.026161      0.092885  0.030285 -0.014274 -0.041910       0.086463    0.030703\n",
            "view           0.011592  0.397293  0.079532   0.187737     0.284611  0.074710  0.029444    0.401857  1.000000   0.045990  0.251321    0.167649       0.276947 -0.053440      0.103917  0.084827  0.006157 -0.078400       0.280439    0.072575\n",
            "condition     -0.023783  0.036362  0.028472  -0.124982    -0.058753 -0.008958 -0.263768    0.016653  0.045990   1.000000 -0.144674   -0.158214       0.174105 -0.361417     -0.060618  0.003026 -0.014941 -0.106500      -0.092824   -0.003406\n",
            "grade          0.008130  0.667434  0.356967   0.664983     0.762704  0.113621  0.458183    0.082775  0.251321  -0.144674  1.000000    0.755923       0.168392  0.446963      0.014414 -0.184862  0.114084  0.198372       0.713202    0.119248\n",
            "sqft_above    -0.010842  0.605567  0.477600   0.685342     0.876597  0.183512  0.523885    0.072075  0.167649  -0.158214  0.755923    1.000000      -0.051943  0.423898      0.023285 -0.261190 -0.000816  0.343803       0.731870    0.194050\n",
            "sqft_basement -0.005151  0.323816  0.303093   0.283770     0.435043  0.015286 -0.245705    0.080588  0.276947   0.174105  0.168392   -0.051943       1.000000 -0.133124      0.071323  0.074845  0.110538 -0.144765       0.200355    0.017276\n",
            "yr_built       0.021380  0.054012  0.154178   0.506019     0.318049  0.053080  0.489319   -0.026161 -0.053440  -0.361417  0.446963    0.423898      -0.133124  1.000000     -0.224874 -0.346869 -0.148122  0.409356       0.326229    0.070958\n",
            "yr_renovated  -0.016907  0.126434  0.018841   0.050739     0.055363  0.007644  0.006338    0.092885  0.103917  -0.060618  0.014414    0.023285       0.071323 -0.224874      1.000000  0.064357  0.029398 -0.068372      -0.002673    0.007854\n",
            "zipcode       -0.008224 -0.053203 -0.152668  -0.203866    -0.199430 -0.129574 -0.059121    0.030285  0.084827   0.003026 -0.184862   -0.261190       0.074845 -0.346869      0.064357  1.000000  0.267048 -0.564072      -0.279033   -0.147221\n",
            "lat           -0.001891  0.307003 -0.008931   0.024573     0.052529 -0.085683  0.049614   -0.014274  0.006157  -0.014941  0.114084   -0.000816       0.110538 -0.148122      0.029398  0.267048  1.000000 -0.135512       0.048858   -0.086419\n",
            "long           0.020799  0.021626  0.129473   0.223042     0.240223  0.229521  0.125419   -0.041910 -0.078400  -0.106500  0.198372    0.343803      -0.144765  0.409356     -0.068372 -0.564072 -0.135512  1.000000       0.334605    0.254451\n",
            "sqft_living15 -0.002901  0.585379  0.391638   0.568634     0.756420  0.144608  0.279885    0.086463  0.280439  -0.092824  0.713202    0.731870       0.200355  0.326229     -0.002673 -0.279033  0.048858  0.334605       1.000000    0.183192\n",
            "sqft_lot15    -0.138798  0.082447  0.029244   0.087175     0.183286  0.718557 -0.011269    0.030703  0.072575  -0.003406  0.119248    0.194050       0.017276  0.070958      0.007854 -0.147221 -0.086419  0.254451       0.183192    1.000000\n"
          ],
          "name": "stdout"
        }
      ]
    },
    {
      "cell_type": "markdown",
      "metadata": {
        "id": "TCakiylY53ne"
      },
      "source": [
        "Many ML models assume the data is bell ci=uved Gaussain.  We will check the skewness.\n",
        "\n",
        "# closer to 0 is closer to bell\n",
        "\n",
        "Positive numbers skew right.\n",
        "\n",
        "Negative numbers skew Left\n",
        "\n"
      ]
    },
    {
      "cell_type": "code",
      "metadata": {
        "colab": {
          "base_uri": "https://localhost:8080/"
        },
        "id": "2kp20Uzo6A9A",
        "outputId": "cb0a1c52-ddc2-46a6-b994-039993441d60"
      },
      "source": [
        "skew = df.skew()\n",
        "print(skew)\n",
        "\n",
        "# something skew with price which leans heavy right, Sqft Lot, waterfront,yr_renovated\n",
        "\n",
        "# Maybe look for a model that works well with skewed data."
      ],
      "execution_count": 12,
      "outputs": [
        {
          "output_type": "stream",
          "text": [
            "id                0.243329\n",
            "price             4.024069\n",
            "bedrooms          1.974300\n",
            "bathrooms         0.511108\n",
            "sqft_living       1.471555\n",
            "sqft_lot         13.060019\n",
            "floors            0.616177\n",
            "waterfront       11.385108\n",
            "view              3.395750\n",
            "condition         1.032805\n",
            "grade             0.771103\n",
            "sqft_above        1.446664\n",
            "sqft_basement     1.577965\n",
            "yr_built         -0.469805\n",
            "yr_renovated      4.549493\n",
            "zipcode           0.405661\n",
            "lat              -0.485270\n",
            "long              0.885053\n",
            "sqft_living15     1.108181\n",
            "sqft_lot15        9.506743\n",
            "dtype: float64\n"
          ],
          "name": "stdout"
        }
      ]
    },
    {
      "cell_type": "code",
      "metadata": {
        "id": "cQkNU2e45pW6"
      },
      "source": [
        "# select our variables\n",
        "x = df[['bedrooms', 'bathrooms', 'sqft_living', 'sqft_lot', 'waterfront','condition','yr_built', 'yr_renovated', 'zipcode','lat','long']]"
      ],
      "execution_count": 16,
      "outputs": []
    },
    {
      "cell_type": "code",
      "metadata": {
        "id": "dTaIdKQe9zIZ"
      },
      "source": [
        "y= df['price']"
      ],
      "execution_count": 17,
      "outputs": []
    },
    {
      "cell_type": "markdown",
      "metadata": {
        "id": "MIjizugI-Yr_"
      },
      "source": [
        "##Next we build the linear regression"
      ]
    },
    {
      "cell_type": "code",
      "metadata": {
        "colab": {
          "base_uri": "https://localhost:8080/"
        },
        "id": "tpG21CWQ-P5m",
        "outputId": "25638be3-158a-4e31-89c8-59e6b8c001fd"
      },
      "source": [
        "from sklearn.linear_model import LinearRegression\n",
        "regressor = LinearRegression()\n",
        "regressor.fit(x,y)"
      ],
      "execution_count": 18,
      "outputs": [
        {
          "output_type": "execute_result",
          "data": {
            "text/plain": [
              "LinearRegression(copy_X=True, fit_intercept=True, n_jobs=None, normalize=False)"
            ]
          },
          "metadata": {
            "tags": []
          },
          "execution_count": 18
        }
      ]
    },
    {
      "cell_type": "code",
      "metadata": {
        "colab": {
          "base_uri": "https://localhost:8080/"
        },
        "id": "uH3VyakA-jWZ",
        "outputId": "7354e93e-341c-4624-ae99-ff92cd141698"
      },
      "source": [
        "from sklearn.linear_model import LinearRegression\n",
        "regressor = LinearRegression()\n",
        "regressor.fit(x,y)\n",
        "r2_score = regressor.score(x, y)\n",
        "print(r2_score*100,'%')\n",
        "\n",
        "# Score of 65% is below the hope for 85%"
      ],
      "execution_count": 21,
      "outputs": [
        {
          "output_type": "stream",
          "text": [
            "64.64486187238411 %\n"
          ],
          "name": "stdout"
        }
      ]
    },
    {
      "cell_type": "markdown",
      "metadata": {
        "id": "yUqUA7u9-_Ns"
      },
      "source": [
        "Before we try to improve up on that score let us look at the feature importance."
      ]
    },
    {
      "cell_type": "code",
      "metadata": {
        "colab": {
          "base_uri": "https://localhost:8080/",
          "height": 390
        },
        "id": "tj6pI9q4_dYB",
        "outputId": "255b51d8-22c6-45d3-8118-d1553917fe3a"
      },
      "source": [
        "intercept = regressor.intercept_\n",
        "features = pd.DataFrame(regressor.coef_ , x.columns, columns=['coefficient'])\n",
        "features.head(20)"
      ],
      "execution_count": 24,
      "outputs": [
        {
          "output_type": "execute_result",
          "data": {
            "text/html": [
              "<div>\n",
              "<style scoped>\n",
              "    .dataframe tbody tr th:only-of-type {\n",
              "        vertical-align: middle;\n",
              "    }\n",
              "\n",
              "    .dataframe tbody tr th {\n",
              "        vertical-align: top;\n",
              "    }\n",
              "\n",
              "    .dataframe thead th {\n",
              "        text-align: right;\n",
              "    }\n",
              "</style>\n",
              "<table border=\"1\" class=\"dataframe\">\n",
              "  <thead>\n",
              "    <tr style=\"text-align: right;\">\n",
              "      <th></th>\n",
              "      <th>coefficient</th>\n",
              "    </tr>\n",
              "  </thead>\n",
              "  <tbody>\n",
              "    <tr>\n",
              "      <th>bedrooms</th>\n",
              "      <td>-56076.787015</td>\n",
              "    </tr>\n",
              "    <tr>\n",
              "      <th>bathrooms</th>\n",
              "      <td>57545.175132</td>\n",
              "    </tr>\n",
              "    <tr>\n",
              "      <th>sqft_living</th>\n",
              "      <td>284.643930</td>\n",
              "    </tr>\n",
              "    <tr>\n",
              "      <th>sqft_lot</th>\n",
              "      <td>-0.015685</td>\n",
              "    </tr>\n",
              "    <tr>\n",
              "      <th>waterfront</th>\n",
              "      <td>759143.598447</td>\n",
              "    </tr>\n",
              "    <tr>\n",
              "      <th>condition</th>\n",
              "      <td>22474.632742</td>\n",
              "    </tr>\n",
              "    <tr>\n",
              "      <th>yr_built</th>\n",
              "      <td>-1705.685682</td>\n",
              "    </tr>\n",
              "    <tr>\n",
              "      <th>yr_renovated</th>\n",
              "      <td>27.268222</td>\n",
              "    </tr>\n",
              "    <tr>\n",
              "      <th>zipcode</th>\n",
              "      <td>-623.402709</td>\n",
              "    </tr>\n",
              "    <tr>\n",
              "      <th>lat</th>\n",
              "      <td>681983.889214</td>\n",
              "    </tr>\n",
              "    <tr>\n",
              "      <th>long</th>\n",
              "      <td>-271858.857096</td>\n",
              "    </tr>\n",
              "  </tbody>\n",
              "</table>\n",
              "</div>"
            ],
            "text/plain": [
              "                coefficient\n",
              "bedrooms      -56076.787015\n",
              "bathrooms      57545.175132\n",
              "sqft_living      284.643930\n",
              "sqft_lot          -0.015685\n",
              "waterfront    759143.598447\n",
              "condition      22474.632742\n",
              "yr_built       -1705.685682\n",
              "yr_renovated      27.268222\n",
              "zipcode         -623.402709\n",
              "lat           681983.889214\n",
              "long         -271858.857096"
            ]
          },
          "metadata": {
            "tags": []
          },
          "execution_count": 24
        }
      ]
    },
    {
      "cell_type": "markdown",
      "metadata": {
        "id": "xo2IeQXTAQ1a"
      },
      "source": [
        "Let us loose those Negative signs. but be careful with Long & Lat not being Neg\n",
        "\n",
        "> Indented block\n",
        "\n"
      ]
    },
    {
      "cell_type": "code",
      "metadata": {
        "colab": {
          "base_uri": "https://localhost:8080/"
        },
        "id": "H3nVz1fvAX1d",
        "outputId": "3b11a9cb-1fbb-4bec-c318-07b539c91090"
      },
      "source": [
        "features.coefficient = features.coefficient.abs()\n",
        "features.coefficient.head(20)"
      ],
      "execution_count": 25,
      "outputs": [
        {
          "output_type": "execute_result",
          "data": {
            "text/plain": [
              "bedrooms         56076.787015\n",
              "bathrooms        57545.175132\n",
              "sqft_living        284.643930\n",
              "sqft_lot             0.015685\n",
              "waterfront      759143.598447\n",
              "condition        22474.632742\n",
              "yr_built          1705.685682\n",
              "yr_renovated        27.268222\n",
              "zipcode            623.402709\n",
              "lat             681983.889214\n",
              "long            271858.857096\n",
              "Name: coefficient, dtype: float64"
            ]
          },
          "metadata": {
            "tags": []
          },
          "execution_count": 25
        }
      ]
    },
    {
      "cell_type": "code",
      "metadata": {
        "colab": {
          "base_uri": "https://localhost:8080/",
          "height": 282
        },
        "id": "iWloTtv5Apk2",
        "outputId": "f38f31cc-eaec-4bee-cd8d-b81f7d5f03e7"
      },
      "source": [
        "import matplotlib.pyplot as plt\n",
        "plt.barh(features.index, features.coefficient)"
      ],
      "execution_count": 26,
      "outputs": [
        {
          "output_type": "execute_result",
          "data": {
            "text/plain": [
              "<BarContainer object of 11 artists>"
            ]
          },
          "metadata": {
            "tags": []
          },
          "execution_count": 26
        },
        {
          "output_type": "display_data",
          "data": {
            "image/png": "[encoded data removed]",
            "text/plain": [
              "<Figure size 432x288 with 1 Axes>"
            ]
          },
          "metadata": {
            "tags": [],
            "needs_background": "light"
          }
        }
      ]
    },
    {
      "cell_type": "markdown",
      "metadata": {
        "id": "GOUO8hLMA3Hz"
      },
      "source": [
        "Let us get the equation of the Line:\n",
        "\n",
        "params = model.coef_"
      ]
    },
    {
      "cell_type": "code",
      "metadata": {
        "colab": {
          "base_uri": "https://localhost:8080/"
        },
        "id": "BPyQxojfApW-",
        "outputId": "28856f8b-3ecc-430f-873e-b122ce81a19d"
      },
      "source": [
        "print(regressor.intercept_)"
      ],
      "execution_count": 29,
      "outputs": [
        {
          "output_type": "stream",
          "text": [
            "-1225177.4424074106\n"
          ],
          "name": "stdout"
        }
      ]
    },
    {
      "cell_type": "code",
      "metadata": {
        "colab": {
          "base_uri": "https://localhost:8080/"
        },
        "id": "gO1-zppjApTS",
        "outputId": "83dbc67b-dc5d-45a7-be4f-7cb1049badfa"
      },
      "source": [
        "print(regressor.coef_)"
      ],
      "execution_count": 30,
      "outputs": [
        {
          "output_type": "stream",
          "text": [
            "[5.60767870e+04 5.75451751e+04 2.84643930e+02 1.56854308e-02\n",
            " 7.59143598e+05 2.24746327e+04 1.70568568e+03 2.72682219e+01\n",
            " 6.23402709e+02 6.81983889e+05 2.71858857e+05]\n"
          ],
          "name": "stdout"
        }
      ]
    },
    {
      "cell_type": "markdown",
      "metadata": {
        "id": "yyM17Ens-jDR"
      },
      "source": [
        "Now let us scale the data and see if we do any better than our  65% accuracy."
      ]
    }
  ]
}