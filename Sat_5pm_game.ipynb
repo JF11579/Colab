{
  "nbformat": 4,
  "nbformat_minor": 0,
  "metadata": {
    "colab": {
      "name": "Sat_5pm_game.ipynb",
      "provenance": [],
      "collapsed_sections": [],
      "authorship_tag": "ABX9TyMAoRcAKC/ZFbf1V/1Tfx9o",
      "include_colab_link": true
    },
    "kernelspec": {
      "name": "python3",
      "display_name": "Python 3"
    },
    "language_info": {
      "name": "python"
    }
  },
  "cells": [
    {
      "cell_type": "markdown",
      "metadata": {
        "id": "view-in-github",
        "colab_type": "text"
      },
      "source": [
        "<a href=\"https://colab.research.google.com/github/JF11579/Colab/blob/main/Sat_5pm_game.ipynb\" target=\"_parent\"><img src=\"https://colab.research.google.com/assets/colab-badge.svg\" alt=\"Open In Colab\"/></a>"
      ]
    },
    {
      "cell_type": "code",
      "metadata": {
        "id": "AHBhvG3Y8X2y"
      },
      "source": [
        "# Friday, Oct 22 Guessing \n",
        "# python3 Guessing_Game_Friday.py\n",
        "# This version adds the text :Computer you got it wrong.\n",
        "\n",
        "\n",
        "#import random library \n",
        "import random\n",
        "#\n",
        "\n",
        "#colors list array\n",
        "colors = [\"Red\", \"Blue\", \"Green\", \"Brown\",\"Pink\", \"White\", \"Black\", \"Silver\"]\n",
        "type(colors)\n",
        "#print(colors)\n",
        "\n",
        "print(\"GGF_3\")\n",
        "\n",
        "import random\n",
        "\n",
        "def welcome_msg():\n",
        "\tprint(\"We are going to play matching game.\")\n",
        "\tprint(\"You will  pick a color from this list\")\n",
        "\tprint(\"and we will see if the computer\")\n",
        "\tprint(\"can guess your choice.\")\n",
        "\tprint (colors)\n",
        "welcome_msg()\n",
        "\n",
        "def get_user_guess():\n",
        "\tchooseColor = input(\"Please select a color:\")\n",
        "\tprint(\"You chose:\" + chooseColor)\n",
        "get_user_guess()\n",
        "\n",
        "\n",
        "original_list = colors\n",
        "# k = number of items to select\n",
        "sample_list = random.choices(original_list, k=1)\n",
        "print(\"The computer chose:\"  + str(sample_list))\n",
        "#\n",
        "def guessTheAnswer():\n",
        "\tsample_list = random.choices(original_list, k=1)\n",
        "\tif sample_list == get_user_guess:\n",
        "\t\tprint(\"Congrasts computer you guessed correct\")\n",
        "\telse:\n",
        "\t\tprint(\"Computer you guessed wrong\")\n",
        "guessTheAnswer()\n",
        "\n",
        "\n"
      ],
      "execution_count": null,
      "outputs": []
    }
  ]
}