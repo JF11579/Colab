{
  "nbformat": 4,
  "nbformat_minor": 0,
  "metadata": {
    "colab": {
      "name": "guessinGameSafety.ipynb",
      "provenance": [],
      "collapsed_sections": [],
      "authorship_tag": "ABX9TyMDb8lfpetVun20bf2ChdlB",
      "include_colab_link": true
    },
    "kernelspec": {
      "name": "python3",
      "display_name": "Python 3"
    },
    "language_info": {
      "name": "python"
    }
  },
  "cells": [
    {
      "cell_type": "markdown",
      "metadata": {
        "id": "view-in-github",
        "colab_type": "text"
      },
      "source": [
        "<a href=\"https://colab.research.google.com/github/JF11579/Colab/blob/main/guessinGameSafety.ipynb\" target=\"_parent\"><img src=\"https://colab.research.google.com/assets/colab-badge.svg\" alt=\"Open In Colab\"/></a>"
      ]
    },
    {
      "cell_type": "code",
      "metadata": {
        "id": "P_S5P_AJo8vR"
      },
      "source": [
        "# Friday, Oct 22 Guessing \n",
        "# python3 Guessing_Game_Friday.py\n",
        "\n",
        "\n",
        "\n",
        "#import random library \n",
        "import random\n",
        "#\n",
        "#colors list array\n",
        "colors = [\"Red\", \"Blue\", \"Green\", \"Brown\",\"Pink\", \"White\", \"Black\", \"Silver\"]\n",
        "type(colors)\n",
        "#print(colors)\n",
        "###########################################\n",
        "########  Welcome Message   ###############\n",
        "###########################################\n",
        "\n",
        "import random\n",
        "\n",
        "def welcome_msg():\n",
        "\tprint(\"We are going to play matching game.\")\n",
        "\tprint(\"You will  pick a color from this list\")\n",
        "\tprint(\"and we will see if the computer\")\n",
        "\tprint(\"can guess your choice.\")\n",
        "\tprint (colors)\n",
        "welcome_msg()\n",
        "\n",
        "def get_user_guess():\n",
        "\tchooseColor = input(\"Please select a color:\")\n",
        "\tprint(\"You chose:\" + chooseColor)\n",
        "get_user_guess()\n",
        "\n",
        "\n",
        "original_list = colors\n",
        "# k = number of items to select\n",
        "sample_list = random.choices(original_list, k=1)\n",
        "print(\"The computer chose:\"  + str(sample_list))\n",
        "\n",
        "\n",
        "\n",
        "\n",
        "\n",
        "######################################\n",
        "########Color List ###################\n",
        "#####################################\n",
        "'''\n",
        "print(\"When asked please choose one of these colors\")\n",
        "\n",
        "#Generate the random index for the colors array list and return the index\n",
        "def get_random_color_index():\n",
        "\tprint(colors)\n",
        "\n",
        "get_random_color_index()\n",
        "\n",
        "###############################################\n",
        "######## Get User Input  ###################\n",
        "##############################################\n",
        "\n",
        "def get_user_guess():\n",
        "\tchooseColor = input(\"Please select a color:\")\n",
        "\tprint(\"You chose:\" + chooseColor)\n",
        "\tif chooseColor in colors:\n",
        "\t\t#print(\"FINALLY\")\n",
        "\telse:\n",
        "\t\tprint(\"Please only choose from the list\")\n",
        "get_user_guess()\n",
        "\n",
        "\n",
        "\n",
        "\n",
        "\n",
        "\n",
        "\n",
        "\n",
        "\n",
        "\n",
        "\n"
      ],
      "execution_count": null,
      "outputs": []
    }
  ]
}