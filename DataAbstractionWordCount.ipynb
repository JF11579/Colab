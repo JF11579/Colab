{
  "nbformat": 4,
  "nbformat_minor": 0,
  "metadata": {
    "colab": {
      "name": "DataAbstractionWordCount.ipynb",
      "provenance": [],
      "collapsed_sections": [],
      "authorship_tag": "ABX9TyNEH+3mfGdbU0xW9x4fTv8f",
      "include_colab_link": true
    },
    "kernelspec": {
      "name": "python3",
      "display_name": "Python 3"
    },
    "language_info": {
      "name": "python"
    }
  },
  "cells": [
    {
      "cell_type": "markdown",
      "metadata": {
        "id": "view-in-github",
        "colab_type": "text"
      },
      "source": [
        "<a href=\"https://colab.research.google.com/github/JF11579/Colab/blob/main/DataAbstractionWordCount.ipynb\" target=\"_parent\"><img src=\"https://colab.research.google.com/assets/colab-badge.svg\" alt=\"Open In Colab\"/></a>"
      ]
    },
    {
      "cell_type": "markdown",
      "metadata": {
        "id": "ZbKAxLDcuCuQ"
      },
      "source": [
        "### Data Abstraction Specialist"
      ]
    },
    {
      "cell_type": "markdown",
      "metadata": {
        "id": "G7jGFZBbtoMM"
      },
      "source": [
        "### The *Position Overview* mentions abstracting data from medical examiner's reports and building databases from it.  Below is a demo using some Python code to locate each instance of the  text as well as the sentence it was found in."
      ]
    },
    {
      "cell_type": "code",
      "metadata": {
        "id": "IwMPqU_9ZbRl"
      },
      "source": [
        "import re"
      ],
      "execution_count": 13,
      "outputs": []
    },
    {
      "cell_type": "code",
      "metadata": {
        "id": "veRh2M6AoB2D"
      },
      "source": [
        "import nltk\n",
        "nltk.download('all')"
      ],
      "execution_count": null,
      "outputs": []
    },
    {
      "cell_type": "markdown",
      "metadata": {
        "id": "Md88ib3RuScI"
      },
      "source": [
        "this project was done using Google's colab"
      ]
    },
    {
      "cell_type": "markdown",
      "metadata": {
        "id": "KZM3kaT2ufRm"
      },
      "source": [
        "We have converted a Medical Examiner'r report as text file."
      ]
    },
    {
      "cell_type": "code",
      "metadata": {
        "colab": {
          "base_uri": "https://localhost:8080/",
          "height": 0
        },
        "id": "Pm37zpgpkaW1",
        "outputId": "6f3119f1-29c3-4be6-dcc0-c0311f963b4d"
      },
      "source": [
        "#read in txt file\n",
        "with open(\"/content/Autopsy_report.txt\", \"r\") as f:\n",
        "  text = f.read()\n",
        "  print(text)"
      ],
      "execution_count": 32,
      "outputs": [
        {
          "output_type": "stream",
          "text": [
            "﻿AUTOPSY REPORT\n",
            "Autopsy: BPD110094-67F DECEDENT: John Anderson\n",
            "Autopsy Authorized by: Dr. Smith for City of Indianapolis. Identified by: fingerprints and dental comparison.\n",
            "Rigor: absent\n",
            "Livor: purple Distribution: posterior Age: 34\n",
            "Race: White\n",
            "Sex: Male\n",
            "Length: 72 inches Weight: 185 pounds Eyes: Hazel\n",
            "Hair: Brown Circumcised: Yes\n",
            "Body Heat: Refrigerated\n",
            "CLOTHING:\n",
            "1. Blue dress shirt, blood-stained and scorched. Multiple tears of different sizes on the front. Both lower arms are shredded.\n",
            "2. White T-shirt, blood-stained and scorched with multiple tears of different sizes on the front matching the tears on the blue dress shirt.\n",
            "3. Red tie shredded, scorched and blood-stained.\n",
            "4. Brown pants, blood-stained with irregular tears, scorching, and soot\n",
            "deposition, primarily on the left upper leg and crotch.\n",
            "5. Brown belt.\n",
            "6. White underwear briefs, torn on left side with searing, soot deposition and blood stains.\n",
            "7. Brown socks.\n",
            "8. Black shoes.\n",
            "EXTERNAL EXAMINATION:\n",
            "Well developed, well nourished, white male with multiple blast and fragment injuries including amputations of both upper extremities at mid-forearm with partial fragmentation of the detached portions of the extremities. There are lacerations of face and scalp with fractures of the calvarium, skull base and facial bones. The cranial vault is empty with fragments of brain recovered separately.\n",
            "\n",
            "\n",
            "   There are multiple penetrating fragment injuries of the anterior thorax and left thigh. There are gaping lacerations of the left lower abdomen and thigh with partial evisceration of sigmoid colon and small intestine. The penis and left testicle are absent. There are flash burns of the anterior thorax, face and left thigh.\n",
            "X-RAYS:\n",
            "Total body x-rays demonstrate comminuted fractures of the face and skull, multiple anterior rib fractures, comminuted fractures of pelvis and proximal left femur, amputations of distal upper extremities, and multiple metallic fragments in the head, thorax, and thighs.\n",
            "HISTORY:\n",
            "Injured by exploding package.\n",
            "PATHOLOGICAL DIAGNOSES:\n",
            "1. Blast and fragment injuries to head\n",
            "a. Comminuted fractures of calvarium, skull base and facial bones\n",
            "b. Avulsion and fragmentation of brain\n",
            "c. Avulsion and fragmentation of eyes\n",
            "d. Penetrating fragment injuries to lower face\n",
            "e. Flash burns to lower face\n",
            "2. Blast and fragment injuries to trunk\n",
            "a. Multiple perforation injuries with multiple lacerations of lungs, heart,\n",
            "liver, spleen, and intestines\n",
            "b. Multiple fractures and perforations of anterior ribs and sternum\n",
            "c. Laceration of left lower abdominal wall with partial evisceration of\n",
            "small intestine, mesentery, and colon\n",
            "d. Flash burns to anterior thorax\n",
            "e. Comminuted fractures of left ilium, ischium and pubic ramus with\n",
            "separations of the sacro-iliac joints and pubic symphysis.\n",
            "f. Multiple metal fragments recovered from thorax, abdomen and\n",
            "pelvis.\n",
            "3. Blast and fragment injuries to extremities\n",
            "a. Amputation of right hand and forearm with avulsion and searing of muscle and connective tissue\n",
            "b. Amputation and fragmentation of left hand and forearm with avulsion and searing of muscle and connective tissue\n",
            "c. Multiple penetrating fragment injuries to anterior surface of right arm\n",
            "\n",
            "\n",
            "   d. Comminution of left proximal femur with partial avulsion and searing of muscle and soft tissue.\n",
            "e. Multiple metal fragments recovered from soft tissues of left thigh\n",
            "4. Toxicology\n",
            "a. Blood carboxyhemoglobin less than 5% saturation\n",
            "b. Blood and vitreous fluid negative for alcohols\n",
            "c. Blood negative for acidic, basic and neutral drugs\n",
            "CAUSE OF DEATH\n",
            "Blast and penetrating fragment injuries due to explosion.\n",
            "GROSS DESCRIPTION\n",
            "SKIN:\n",
            "Multiple lacerations and perforations with irregular edges, searing and soot deposition\n",
            "PLEURA: 200 mL blood right, 300 mL blood left, 2 deformed nails recovered from right pleural cavity, 5 x 2 inch threaded metal fragment recovered from left pleural cavity. Multiple smaller metal fragments recovered from both pleural cavities.\n",
            "PERITONEUM: 100 mL blood, multiple metal fragments recovered PERICARDIUM: Multiple lacerations.\n",
            "HEART: 380 grams. Normal size and shape, coronary arteries within normal limits. Multiple lacerations of right and left ventricles. Laceration of aortic root.\n",
            "AORTA: Laceration of aortic root. Multiple lacerations of lower abdominal aorta. Left iliac and femoral vessels fragmented.\n",
            "NECK ORGANS: There are superficial penetrating fragment injuries on the anterior aspects of the neck with hemorrhage in the soft tissues adjacent to the wounds. Laryngeal cartilages, hyoid bone and cervical spine intact. Thyroid within normal limits. Airway free of blood and foreign material.\n",
            "LUNGS: 930 grams combined. Multiple lacerations of upper lobes and right middle lobe. Parenchyma aerated with a few apical bullae.\n",
            "LYMPH NODES: Within normal limits.\n",
            "\n",
            "\n",
            "\n",
            "\n",
            "   LIVER: 1650 grams. Multiple lacerations with partial pulpifaction of parenchyma.\n",
            "GALLBLADDER: Contains bile. No stones.\n",
            "SPLEEN: 130 grams. Multiple lacerations and partial pulpifaction.\n",
            "PANCREAS: Usual external configuration and pale tan on cut section with the usual lobular architecture.\n",
            "ADRENAL GLANDS: Within normal limits.\n",
            "GI TRACT: There are fractures of the maxilla and mandible. The tongue is without injury. The pharynx and esophagus are unremarkable. The stomach is empty and there are multiple lacerations of the gastric wall. There are multiple lacerations and perforations of the mesentery, small intestine, and colon. The appendix is present.\n",
            "KIDNEYS: 320 grams combined. There is hemorrhage in the perirenal soft tissues. The capsules strip with ease. The cortical surface is smooth. On cross section the cortices are of normal thickness and the pyramids and collecting systems are unremarkable. There are no stones or focal lesions. The ureters are intact.\n",
            "BLADDER: Multiple lacerations of the wall.\n",
            "GENITALIA: Lacerations of left scrotum with avulsion of left testicle and penis. Prostate unremarkable.\n",
            "BRAIN & MENINGES: Brain absent. 950 grams of brain fragments submitted separately.\n",
            "SKULL: Comminuted fractures of calvarium, skull base, and facial bones including mandible and maxilla.\n",
            "PELVIS: Comminuted fractures of left ileum, left ischium, left pubic ramus. Separations of pubic symphysis and sacro-iliac joints.\n",
            "RIBS: Perforations and fractures of anterior ribs and sternum. VERTEBRAE: Within normal limits\n",
            "EXTREMITIES: Amputations of right and left hands and forearms, Comminuted fractures of left proximal femur.\n",
            "MICROSCOPIC SECTIONS: Heart, lung, liver\n",
            "\n",
            "\n",
            "   OTHER LAB PROCEDURES: Toxicology, Photography, X-ray, Microscopic Examination.\n",
            "DISPOSITION OF EVIDENCE:\n",
            "TOXICOLOGY: blood, vitreous, liver, bile, urine. INVESTIGATOR: Clothing, recovered fragments.\n",
            "MICROSCOPIC DESCRIPTION\n",
            "HEART:\n",
            "LUNGS: areas.\n",
            "LIVER:\n",
            "SUMMARY:\n",
            "This 34 year old white man died instantly from multiple blast and fragment injuries when a package exploded in his home.\n",
            "CAUSE OF DEATH:\n",
            "Blast and fragment injuries.\n",
            "MANNER OF DEATH:\n",
            "Homicide\n",
            "Fragmentation and parenchymal hemorrhage\n",
            "Lacerations and parenchymal hemorrhage. Focal emphysematous\n",
            "Fragmentation and parenchymal hemorrhage.\n"
          ],
          "name": "stdout"
        }
      ]
    },
    {
      "cell_type": "code",
      "metadata": {
        "id": "-e3TLN7-biT2"
      },
      "source": [
        "def tokenize(text):\n",
        "    text = text.lower()\n",
        "    text = re.sub(r'[^a-zA-Z ^0-9]', '', str(text))\n",
        "    return text.split()"
      ],
      "execution_count": 33,
      "outputs": []
    },
    {
      "cell_type": "code",
      "metadata": {
        "id": "4X3fDJqekHo4"
      },
      "source": [
        "text"
      ],
      "execution_count": null,
      "outputs": []
    },
    {
      "cell_type": "markdown",
      "metadata": {
        "id": "nyUCE0Jgk0_k"
      },
      "source": [
        "## Word Count"
      ]
    },
    {
      "cell_type": "code",
      "metadata": {
        "colab": {
          "base_uri": "https://localhost:8080/",
          "height": 0
        },
        "id": "uCdammUvlH4_",
        "outputId": "39ca9748-e8fc-4ac7-d7a2-e162e0b8288a"
      },
      "source": [
        "tokens = tokenize(text)\n",
        "tokens[:10]"
      ],
      "execution_count": 22,
      "outputs": [
        {
          "output_type": "execute_result",
          "data": {
            "text/plain": [
              "['autopsy',\n",
              " 'reportautopsy',\n",
              " 'bpd11009467f',\n",
              " 'decedent',\n",
              " 'john',\n",
              " 'andersonautopsy',\n",
              " 'authorized',\n",
              " 'by',\n",
              " 'dr',\n",
              " 'smith']"
            ]
          },
          "metadata": {
            "tags": []
          },
          "execution_count": 22
        }
      ]
    },
    {
      "cell_type": "code",
      "metadata": {
        "id": "Rn7KCGsgbuoI"
      },
      "source": [
        "from collections import Counter"
      ],
      "execution_count": 20,
      "outputs": []
    },
    {
      "cell_type": "code",
      "metadata": {
        "colab": {
          "base_uri": "https://localhost:8080/",
          "height": 0
        },
        "id": "UfNCvPbpk6K9",
        "outputId": "77f96245-5703-4df4-edaa-8cff2fcf7fce"
      },
      "source": [
        "def word_counter(tokens):\n",
        "    word_counts = Counter()\n",
        "    word_counts.update(tokens)\n",
        "    return word_counts\n",
        "word_count = word_counter(tokens)\n",
        "word_count.most_common(5)"
      ],
      "execution_count": 23,
      "outputs": [
        {
          "output_type": "execute_result",
          "data": {
            "text/plain": [
              "[('and', 73), ('of', 58), ('the', 35), ('multiple', 24), ('left', 23)]"
            ]
          },
          "metadata": {
            "tags": []
          },
          "execution_count": 23
        }
      ]
    },
    {
      "cell_type": "markdown",
      "metadata": {
        "id": "ivArLVL4v-r1"
      },
      "source": [
        "This space inserted to help it print \"pretty\", i.e., the graph panded just on the fold, so we inserted this blank space to push it down."
      ]
    },
    {
      "cell_type": "markdown",
      "metadata": {
        "id": "UpaiuJH8v-kq"
      },
      "source": [
        ""
      ]
    },
    {
      "cell_type": "markdown",
      "metadata": {
        "id": "nWkan8Szv-dW"
      },
      "source": [
        "."
      ]
    },
    {
      "cell_type": "markdown",
      "metadata": {
        "id": "tN3k-J3Yv-Vp"
      },
      "source": [
        ""
      ]
    },
    {
      "cell_type": "markdown",
      "metadata": {
        "id": "9e2GSosqwZNh"
      },
      "source": [
        "."
      ]
    },
    {
      "cell_type": "markdown",
      "metadata": {
        "id": "zGWxbwL5v-OH"
      },
      "source": [
        "."
      ]
    },
    {
      "cell_type": "markdown",
      "metadata": {
        "id": "w_Y-CVcMv-El"
      },
      "source": [
        "."
      ]
    },
    {
      "cell_type": "markdown",
      "metadata": {
        "id": "dJQUNafZlhDL"
      },
      "source": [
        "Visualize Word count"
      ]
    },
    {
      "cell_type": "code",
      "metadata": {
        "id": "kEVIzD4blfrK"
      },
      "source": [
        "import matplotlib.pyplot as plt"
      ],
      "execution_count": 24,
      "outputs": []
    },
    {
      "cell_type": "code",
      "metadata": {
        "id": "12yosvVWll5m"
      },
      "source": [
        "x = list(word_count.keys())[:10]\n",
        "y = list(word_count.values())[:10]\n",
        "plt.bar(x, y)\n",
        "plt.show();"
      ],
      "execution_count": null,
      "outputs": []
    },
    {
      "cell_type": "code",
      "metadata": {
        "colab": {
          "base_uri": "https://localhost:8080/",
          "height": 324
        },
        "id": "2zABbItnmnyz",
        "outputId": "13831ba2-cc19-4314-d6b8-c93e01bfabe6"
      },
      "source": [
        "x = list(word_count.keys())[:10]\n",
        "y = list(word_count.values())[:10]\n",
        "plt.bar(x, y)\n",
        "degrees = 45\n",
        "plt.xticks(rotation=degrees)\n",
        "plt.show();"
      ],
      "execution_count": 29,
      "outputs": [
        {
          "output_type": "display_data",
          "data": {
            "image/png": "[encoded data removed]",
            "text/plain": [
              "<Figure size 432x288 with 1 Axes>"
            ]
          },
          "metadata": {
            "tags": [],
            "needs_background": "light"
          }
        }
      ]
    },
    {
      "cell_type": "markdown",
      "metadata": {
        "id": "R8GPUtLju4Fm"
      },
      "source": [
        " So that we can build a database of our results let us covert this a pandas dataframe and then export the results as csv file."
      ]
    },
    {
      "cell_type": "code",
      "metadata": {
        "id": "xVBhHGWPvDY-"
      },
      "source": [
        ""
      ],
      "execution_count": null,
      "outputs": []
    },
    {
      "cell_type": "code",
      "metadata": {
        "id": "lJsebfv1mhNZ"
      },
      "source": [
        "import pandas as pd"
      ],
      "execution_count": 30,
      "outputs": []
    },
    {
      "cell_type": "code",
      "metadata": {
        "colab": {
          "base_uri": "https://localhost:8080/",
          "height": 204
        },
        "id": "x2XVBCOlnYt6",
        "outputId": "c52a1391-bba3-4a8f-d82f-e356b279e271"
      },
      "source": [
        "def count(docs):\n",
        "  \n",
        "    word_counts = Counter()\n",
        "    appears_in = Counter()\n",
        "    total_docs = len(docs)\n",
        "    \n",
        "    for doc in docs:\n",
        "        word_counts.update(doc)\n",
        "        appears_in.update(set(doc))\n",
        "        \n",
        "    temp = list(zip(word_counts.keys(), word_counts.values()))\n",
        "    \n",
        "    # Word and count columns\n",
        "    wc = pd.DataFrame(temp, columns = ['word', 'count'])\n",
        "    \n",
        "    # Rank column\n",
        "    wc['rank'] = wc['count'].rank(method='first', ascending=False)\n",
        "    \n",
        "    # Percent Total column\n",
        "    total = wc['count'].sum()\n",
        "    wc['pct_total'] = wc['count'].apply(lambda x: x / total)\n",
        "    \n",
        "    # Cumulative percent total column\n",
        "    wc = wc.sort_values(by='rank')\n",
        "    wc['cul_pct_total'] = wc['pct_total'].cumsum()\n",
        "    \n",
        "    # Appears in column\n",
        "    t2 = list(zip(appears_in.keys(), appears_in.values()))\n",
        "    ac = pd.DataFrame(t2, columns=['word', 'appears_in'])\n",
        "    wc = ac.merge(wc, on='word')\n",
        "    \n",
        "    # Appears in percent column\n",
        "    wc['appears_in_pct'] = wc['appears_in'].apply(lambda x: x / total_docs)\n",
        "    \n",
        "    \n",
        "    return wc.sort_values(by='rank')\n",
        "  \n",
        "wc = count([tokens])\n",
        "wc.head()"
      ],
      "execution_count": 35,
      "outputs": [
        {
          "output_type": "execute_result",
          "data": {
            "text/html": [
              "<div>\n",
              "<style scoped>\n",
              "    .dataframe tbody tr th:only-of-type {\n",
              "        vertical-align: middle;\n",
              "    }\n",
              "\n",
              "    .dataframe tbody tr th {\n",
              "        vertical-align: top;\n",
              "    }\n",
              "\n",
              "    .dataframe thead th {\n",
              "        text-align: right;\n",
              "    }\n",
              "</style>\n",
              "<table border=\"1\" class=\"dataframe\">\n",
              "  <thead>\n",
              "    <tr style=\"text-align: right;\">\n",
              "      <th></th>\n",
              "      <th>word</th>\n",
              "      <th>appears_in</th>\n",
              "      <th>count</th>\n",
              "      <th>rank</th>\n",
              "      <th>pct_total</th>\n",
              "      <th>cul_pct_total</th>\n",
              "      <th>appears_in_pct</th>\n",
              "    </tr>\n",
              "  </thead>\n",
              "  <tbody>\n",
              "    <tr>\n",
              "      <th>369</th>\n",
              "      <td>and</td>\n",
              "      <td>1</td>\n",
              "      <td>73</td>\n",
              "      <td>1.0</td>\n",
              "      <td>0.078158</td>\n",
              "      <td>0.078158</td>\n",
              "      <td>1.0</td>\n",
              "    </tr>\n",
              "    <tr>\n",
              "      <th>158</th>\n",
              "      <td>of</td>\n",
              "      <td>1</td>\n",
              "      <td>58</td>\n",
              "      <td>2.0</td>\n",
              "      <td>0.062099</td>\n",
              "      <td>0.140257</td>\n",
              "      <td>1.0</td>\n",
              "    </tr>\n",
              "    <tr>\n",
              "      <th>276</th>\n",
              "      <td>the</td>\n",
              "      <td>1</td>\n",
              "      <td>35</td>\n",
              "      <td>3.0</td>\n",
              "      <td>0.037473</td>\n",
              "      <td>0.177730</td>\n",
              "      <td>1.0</td>\n",
              "    </tr>\n",
              "    <tr>\n",
              "      <th>38</th>\n",
              "      <td>multiple</td>\n",
              "      <td>1</td>\n",
              "      <td>24</td>\n",
              "      <td>4.0</td>\n",
              "      <td>0.025696</td>\n",
              "      <td>0.203426</td>\n",
              "      <td>1.0</td>\n",
              "    </tr>\n",
              "    <tr>\n",
              "      <th>258</th>\n",
              "      <td>left</td>\n",
              "      <td>1</td>\n",
              "      <td>23</td>\n",
              "      <td>5.0</td>\n",
              "      <td>0.024625</td>\n",
              "      <td>0.228051</td>\n",
              "      <td>1.0</td>\n",
              "    </tr>\n",
              "  </tbody>\n",
              "</table>\n",
              "</div>"
            ],
            "text/plain": [
              "         word  appears_in  count  ...  pct_total  cul_pct_total  appears_in_pct\n",
              "369       and           1     73  ...   0.078158       0.078158             1.0\n",
              "158        of           1     58  ...   0.062099       0.140257             1.0\n",
              "276       the           1     35  ...   0.037473       0.177730             1.0\n",
              "38   multiple           1     24  ...   0.025696       0.203426             1.0\n",
              "258      left           1     23  ...   0.024625       0.228051             1.0\n",
              "\n",
              "[5 rows x 7 columns]"
            ]
          },
          "metadata": {
            "tags": []
          },
          "execution_count": 35
        }
      ]
    },
    {
      "cell_type": "code",
      "metadata": {
        "colab": {
          "base_uri": "https://localhost:8080/",
          "height": 439
        },
        "id": "IWaBYTRNquAp",
        "outputId": "d0561e69-f6bd-4fba-a159-4402cbd77661"
      },
      "source": [
        "wc"
      ],
      "execution_count": 36,
      "outputs": [
        {
          "output_type": "execute_result",
          "data": {
            "text/html": [
              "<div>\n",
              "<style scoped>\n",
              "    .dataframe tbody tr th:only-of-type {\n",
              "        vertical-align: middle;\n",
              "    }\n",
              "\n",
              "    .dataframe tbody tr th {\n",
              "        vertical-align: top;\n",
              "    }\n",
              "\n",
              "    .dataframe thead th {\n",
              "        text-align: right;\n",
              "    }\n",
              "</style>\n",
              "<table border=\"1\" class=\"dataframe\">\n",
              "  <thead>\n",
              "    <tr style=\"text-align: right;\">\n",
              "      <th></th>\n",
              "      <th>word</th>\n",
              "      <th>appears_in</th>\n",
              "      <th>count</th>\n",
              "      <th>rank</th>\n",
              "      <th>pct_total</th>\n",
              "      <th>cul_pct_total</th>\n",
              "      <th>appears_in_pct</th>\n",
              "    </tr>\n",
              "  </thead>\n",
              "  <tbody>\n",
              "    <tr>\n",
              "      <th>369</th>\n",
              "      <td>and</td>\n",
              "      <td>1</td>\n",
              "      <td>73</td>\n",
              "      <td>1.0</td>\n",
              "      <td>0.078158</td>\n",
              "      <td>0.078158</td>\n",
              "      <td>1.0</td>\n",
              "    </tr>\n",
              "    <tr>\n",
              "      <th>158</th>\n",
              "      <td>of</td>\n",
              "      <td>1</td>\n",
              "      <td>58</td>\n",
              "      <td>2.0</td>\n",
              "      <td>0.062099</td>\n",
              "      <td>0.140257</td>\n",
              "      <td>1.0</td>\n",
              "    </tr>\n",
              "    <tr>\n",
              "      <th>276</th>\n",
              "      <td>the</td>\n",
              "      <td>1</td>\n",
              "      <td>35</td>\n",
              "      <td>3.0</td>\n",
              "      <td>0.037473</td>\n",
              "      <td>0.177730</td>\n",
              "      <td>1.0</td>\n",
              "    </tr>\n",
              "    <tr>\n",
              "      <th>38</th>\n",
              "      <td>multiple</td>\n",
              "      <td>1</td>\n",
              "      <td>24</td>\n",
              "      <td>4.0</td>\n",
              "      <td>0.025696</td>\n",
              "      <td>0.203426</td>\n",
              "      <td>1.0</td>\n",
              "    </tr>\n",
              "    <tr>\n",
              "      <th>258</th>\n",
              "      <td>left</td>\n",
              "      <td>1</td>\n",
              "      <td>23</td>\n",
              "      <td>5.0</td>\n",
              "      <td>0.024625</td>\n",
              "      <td>0.228051</td>\n",
              "      <td>1.0</td>\n",
              "    </tr>\n",
              "    <tr>\n",
              "      <th>...</th>\n",
              "      <td>...</td>\n",
              "      <td>...</td>\n",
              "      <td>...</td>\n",
              "      <td>...</td>\n",
              "      <td>...</td>\n",
              "      <td>...</td>\n",
              "      <td>...</td>\n",
              "    </tr>\n",
              "    <tr>\n",
              "      <th>0</th>\n",
              "      <td>homecause</td>\n",
              "      <td>1</td>\n",
              "      <td>1</td>\n",
              "      <td>394.0</td>\n",
              "      <td>0.001071</td>\n",
              "      <td>0.995717</td>\n",
              "      <td>1.0</td>\n",
              "    </tr>\n",
              "    <tr>\n",
              "      <th>131</th>\n",
              "      <td>injuriesmanner</td>\n",
              "      <td>1</td>\n",
              "      <td>1</td>\n",
              "      <td>395.0</td>\n",
              "      <td>0.001071</td>\n",
              "      <td>0.996788</td>\n",
              "      <td>1.0</td>\n",
              "    </tr>\n",
              "    <tr>\n",
              "      <th>181</th>\n",
              "      <td>deathhomicidefragmentation</td>\n",
              "      <td>1</td>\n",
              "      <td>1</td>\n",
              "      <td>396.0</td>\n",
              "      <td>0.001071</td>\n",
              "      <td>0.997859</td>\n",
              "      <td>1.0</td>\n",
              "    </tr>\n",
              "    <tr>\n",
              "      <th>191</th>\n",
              "      <td>hemorrhagelacerations</td>\n",
              "      <td>1</td>\n",
              "      <td>1</td>\n",
              "      <td>397.0</td>\n",
              "      <td>0.001071</td>\n",
              "      <td>0.998929</td>\n",
              "      <td>1.0</td>\n",
              "    </tr>\n",
              "    <tr>\n",
              "      <th>172</th>\n",
              "      <td>emphysematousfragmentation</td>\n",
              "      <td>1</td>\n",
              "      <td>1</td>\n",
              "      <td>398.0</td>\n",
              "      <td>0.001071</td>\n",
              "      <td>1.000000</td>\n",
              "      <td>1.0</td>\n",
              "    </tr>\n",
              "  </tbody>\n",
              "</table>\n",
              "<p>398 rows × 7 columns</p>\n",
              "</div>"
            ],
            "text/plain": [
              "                           word  appears_in  ...  cul_pct_total  appears_in_pct\n",
              "369                         and           1  ...       0.078158             1.0\n",
              "158                          of           1  ...       0.140257             1.0\n",
              "276                         the           1  ...       0.177730             1.0\n",
              "38                     multiple           1  ...       0.203426             1.0\n",
              "258                        left           1  ...       0.228051             1.0\n",
              "..                          ...         ...  ...            ...             ...\n",
              "0                     homecause           1  ...       0.995717             1.0\n",
              "131              injuriesmanner           1  ...       0.996788             1.0\n",
              "181  deathhomicidefragmentation           1  ...       0.997859             1.0\n",
              "191       hemorrhagelacerations           1  ...       0.998929             1.0\n",
              "172  emphysematousfragmentation           1  ...       1.000000             1.0\n",
              "\n",
              "[398 rows x 7 columns]"
            ]
          },
          "metadata": {
            "tags": []
          },
          "execution_count": 36
        }
      ]
    },
    {
      "cell_type": "markdown",
      "metadata": {
        "id": "-krqzQvSrX2b"
      },
      "source": [
        "Download a csv.\n"
      ]
    },
    {
      "cell_type": "code",
      "metadata": {
        "colab": {
          "base_uri": "https://localhost:8080/",
          "height": 0
        },
        "id": "LOcckb2Rq-GR",
        "outputId": "54eccafe-828c-49df-ebcd-4c6c6118247d"
      },
      "source": [
        "from google.colab import drive\n",
        "drive.mount('drive')"
      ],
      "execution_count": 39,
      "outputs": [
        {
          "output_type": "stream",
          "text": [
            "Mounted at drive\n"
          ],
          "name": "stdout"
        }
      ]
    },
    {
      "cell_type": "code",
      "metadata": {
        "id": "VbEBhm02rnw7"
      },
      "source": [
        "wc.to_csv('MedExamWordCount.csv')\n",
        "!cp data.csv \"drive/My Drive/\""
      ],
      "execution_count": 43,
      "outputs": []
    }
  ]
}