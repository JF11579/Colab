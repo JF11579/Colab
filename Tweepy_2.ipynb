{
  "nbformat": 4,
  "nbformat_minor": 0,
  "metadata": {
    "colab": {
      "name": "Tweepy_2.ipynb",
      "provenance": [],
      "collapsed_sections": [],
      "authorship_tag": "ABX9TyOW0e2/rTyWlB9cu4Uo6vVP",
      "include_colab_link": true
    },
    "kernelspec": {
      "name": "python3",
      "display_name": "Python 3"
    },
    "language_info": {
      "name": "python"
    }
  },
  "cells": [
    {
      "cell_type": "markdown",
      "metadata": {
        "id": "view-in-github",
        "colab_type": "text"
      },
      "source": [
        "<a href=\"https://colab.research.google.com/github/JF11579/Colab/blob/main/Tweepy_2.ipynb\" target=\"_parent\"><img src=\"https://colab.research.google.com/assets/colab-badge.svg\" alt=\"Open In Colab\"/></a>"
      ]
    },
    {
      "cell_type": "markdown",
      "metadata": {
        "id": "98QTrmdvdzlz"
      },
      "source": [
        "https://www.toptal.com/python/twitter-data-mining-using-python"
      ]
    },
    {
      "cell_type": "code",
      "metadata": {
        "id": "KgChnFIvdnKe"
      },
      "source": [
        ""
      ],
      "execution_count": null,
      "outputs": []
    },
    {
      "cell_type": "code",
      "metadata": {
        "id": "KhEzV37CK3p2"
      },
      "source": [
        "import tweepy\n",
        "consumer_key = \"XzFJj9TSSULkqUNM158SblatG\"\n",
        "consumer_secret = \"SVuEZOu1dRWs8fyX7PIaCTvp0zr3uVGSFHOfqQRxZ5tspHlKQK\"\n",
        "access_token = \"518106503-GuTw9Qs5mMeGPi8xvEmeawCqdjJ0f4x5gInG4dKY\"\n",
        "access_token_secret = \"PyYCrLr0ccZj62749Xp2i57Cf5scyYHXZ1gnKhLiXVloZ\""
      ],
      "execution_count": 15,
      "outputs": []
    },
    {
      "cell_type": "code",
      "metadata": {
        "id": "EobxutKZKLac"
      },
      "source": [
        "# Creating the authentication object\n",
        "auth = tweepy.OAuthHandler(consumer_key, consumer_secret)"
      ],
      "execution_count": 16,
      "outputs": []
    },
    {
      "cell_type": "code",
      "metadata": {
        "id": "xjv5DkF8OVPr"
      },
      "source": [
        "# Setting your access token and secret\n",
        "auth.set_access_token(access_token, access_token_secret)"
      ],
      "execution_count": 17,
      "outputs": []
    },
    {
      "cell_type": "code",
      "metadata": {
        "id": "dgPxXnN9OYs3"
      },
      "source": [
        "# Creating the API object while passing in auth information\n",
        "api = tweepy.API(auth)"
      ],
      "execution_count": 18,
      "outputs": []
    },
    {
      "cell_type": "code",
      "metadata": {
        "id": "UYiE8JTjQOgd"
      },
      "source": [
        "# Language code (follows ISO 639-1 standards)\n",
        "language = \"en\""
      ],
      "execution_count": 19,
      "outputs": []
    },
    {
      "cell_type": "code",
      "metadata": {
        "id": "ePUkkvYTv2Mw"
      },
      "source": [
        "###################################"
      ],
      "execution_count": null,
      "outputs": []
    },
    {
      "cell_type": "code",
      "metadata": {
        "colab": {
          "base_uri": "https://localhost:8080/"
        },
        "id": "hJLM-XG-0TzF",
        "outputId": "de31b411-a861-479f-cff0-048c0ba80f9d"
      },
      "source": [
        "##################################################\n",
        "#######  SEARCH TWEETS BY TWEETER ################\n",
        "##################################################\n",
        "\n",
        "# Creating the API object while passing in auth information\n",
        "api = tweepy.API(auth)\n",
        "\n",
        "# The Twitter user who we want to get tweets from\n",
        "#name = \"nytimes\"\n",
        "name = \"SecYellen\"  # <<<--------------------------- change name here\n",
        "# Number of tweets to pull\n",
        "tweetCount = 5\n",
        "\n",
        "# Calling the user_timeline function with our parameters\n",
        "results = api.user_timeline(id=name, count=tweetCount)\n",
        "\n",
        "# foreach through all tweets pulled\n",
        "for tweet in results:\n",
        "   # printing the text stored inside the tweet object\n",
        "   print(tweet.text)"
      ],
      "execution_count": 32,
      "outputs": [
        {
          "output_type": "stream",
          "name": "stdout",
          "text": [
            "RT @CBSEveningNews: “We're no longer anywhere near the top in terms of women's labor force participation. And when you look at what might b…\n",
            "Today’s agreement represents a once-in-a-generation accomplishment for economic diplomacy. We’ve turned tireless ne… https://t.co/lxQLWrVzN1\n",
            "The urgency of the debt limit situation demands immediate attention.\n",
            "\n",
            "Glad to join @POTUS and business leaders toda… https://t.co/dA41mLkoJY\n",
            "It’s true— Looking back, I'm not sure whether I would be in my job today if I didn't have an excellent babysitter 4… https://t.co/aaO8ybRJEz\n",
            "The consequences for families and businesses would be equally as severe – including for 50 million seniors who rece… https://t.co/i04ocO4u4z\n"
          ]
        }
      ]
    },
    {
      "cell_type": "code",
      "metadata": {
        "colab": {
          "base_uri": "https://localhost:8080/"
        },
        "id": "BsAlBuDe12g4",
        "outputId": "2409f1a7-8b6c-48f1-cf59-bbbd4b99e1a0"
      },
      "source": [
        "############################################\n",
        "###### sEARCH TWITTER BY KEYWORD  ##########\n",
        "############################################\n",
        "#\n",
        "# Creating the API object while passing in auth information\n",
        "api = tweepy.API(auth)\n",
        "\n",
        "# The search term you want to find\n",
        "query = \"DEEPSTATE\"\n",
        "# Language code (follows ISO 639-1 standards)\n",
        "language = \"en\"\n",
        "\n",
        "# Calling the user_timeline function with our parameters\n",
        "results = api.search(q=query, lang=language)\n",
        "\n",
        "# foreach through all tweets pulled\n",
        "for tweet in results:\n",
        "   # printing the text stored inside the tweet object\n",
        "   print (tweet.user.screen_name,\"Tweeted:\",tweet.text)"
      ],
      "execution_count": 33,
      "outputs": [
        {
          "output_type": "stream",
          "name": "stdout",
          "text": [
            "gaduckworth Tweeted: @DeepState_Shu2 @Imamisfit109 @LuciaRendn4 Too damn funny🤣🤣🤣\n",
            "BowersTerry2 Tweeted: @bigroninside @DeepState_Shu2 Ur owning it?\n",
            "LarvalGoforth Tweeted: @DeepState_Shu2 Yeah, you been on Yahoo, too.\n",
            "DeepState_sat Tweeted: RT @MeidasTouch: . @ATT's being advised to say nothing by crisis consultants who probably make $40k/month.\n",
            "\n",
            "They're being told that if they…\n",
            "sar_oso Tweeted: @DeepState_Shu2 Good for you! Not sleeping is the worst.\n",
            "ByecatsC Tweeted: @GlowRa @DeepState_Shu2 Exactly! Dammit. https://t.co/P9Pu63m0qW\n",
            "DeepState_Shu2 Tweeted: When my friends and I go to Six Flags https://t.co/P4LaDNxZdV\n",
            "ItalyPittman Tweeted: @DeepState_Shu2 I totally understand. I've had periods where I didn't sleep for a seven day stretch for more than a… https://t.co/4482o5u1M7\n",
            "DeepState_sat Tweeted: @MeidasTouch Wrong. They created him, he didn't create them.\n",
            "DMZookeeper Tweeted: @DeepState_sat @OccupyDemocrats Exactly\n"
          ]
        }
      ]
    },
    {
      "cell_type": "code",
      "metadata": {
        "id": "ug-6kngN12YN"
      },
      "source": [
        ""
      ],
      "execution_count": null,
      "outputs": []
    },
    {
      "cell_type": "markdown",
      "metadata": {
        "id": "eXltmjjG12Hd"
      },
      "source": [
        ""
      ]
    },
    {
      "cell_type": "code",
      "metadata": {
        "colab": {
          "base_uri": "https://localhost:8080/"
        },
        "id": "6m-Q7JtDzwpy",
        "outputId": "1c687bf3-c0c2-4171-9a4a-1380cf6beac0"
      },
      "source": [
        "# Using the API object to get tweets from your timeline, and storing it in a variable called public_tweets\n",
        "public_tweets = api.home_timeline()\n",
        "# foreach through all tweets pulled\n",
        "for tweet in public_tweets:\n",
        "   # printing the text stored inside the tweet object\n",
        "   print(tweet.text)"
      ],
      "execution_count": 21,
      "outputs": [
        {
          "output_type": "stream",
          "name": "stdout",
          "text": [
            ".@LisaCurtisDC examines the consequences of Washington’s diplomatic mistakes in Afghanistan—and considers how the B… https://t.co/Ujq4bg9sbj\n",
            "RT @NewAmericaPIT: Happening tomorrow evening -- Thursday, October 14 at 6:30 pm -- participate in #ThePeoplesTech Assemblies' Workshopping…\n",
            "Thank you @NYSComptroller for publishing #COVID19  financial relief data. We know this is a first step. Looking for… https://t.co/08YK4EtaOk\n",
            "RT @davenewworld_2: Election workers were fired for shredding voter applications in Georgia. This happened in Fulton County where 45% of th…\n",
            "RT @NotHoodlum: JUST IN: Witnesses describe a “crazed Charlie Kirk” physically removed from SeaWorld after attempting to ‘rescue the dolphi…\n",
            "Constructed by slavery. https://t.co/EcgWZDNsVC\n",
            "Stay the duck awake for @BillieEilish on Kimmel tonight! #Throwback #MomTexts https://t.co/wH0yjKj625\n",
            "RT @tulipan81: Opensource Bitcoin dashboard in R! (https://t.co/IR9VGGLzbl) https://t.co/BfH7EFtSX8 $BTC #shiny #rstudio #DataScience #cryp…\n",
            "RT @tulipan81: Opensource Bitcoin dashboard in R! (https://t.co/IR9VGGLzbl) https://t.co/BfH7EFtSX8 $BTC #shiny #rstudio #DataScience #cryp…\n",
            "RT @WomenInStat: I'm curious about the most tweeted about #rstats packages in the past ~week, let's explore this using R! 🧵\n",
            "\n",
            "I'm going to u…\n",
            "Glad to spend time with Bill Winters and his teams at @StanChart today. Their office was alive with energy. It’s cl… https://t.co/MkCa4i3CVb\n",
            "With the Americans gone and the Taliban facing crises next door, there are challenges and opportunities for Pakista… https://t.co/cMdhPoRd6o\n",
            "There are limitations to 3D-printed homes. Even so, the direction of travel looks promising https://t.co/rqt7JbsQWi\n",
            "“Gamechangers” is our podcast series examining how innovation really works. @tomstandage examines why mobile paymen… https://t.co/GnjoiPOQU3\n",
            "Researchers estimate that fraudulent results may have boosted United Russia’s vote share by nearly 20 percentage po… https://t.co/LcccUG3UoQ\n",
            "RT @confluentinc: Learn how to create a data pipeline for real-time prediction and model retraining with @apachekafka and @rstudio using #K…\n",
            "RT @elmudge3: The purrr::map() functions have been so helpful in streamlining my code and making complex functional programming so much eas…\n",
            "RT @lisalendway: @WomenInStat @rstudio I ❤️ gganimate … and might try to use it even when I don’t need it 😬. One of my favorite functions i…\n",
            "RT @eddelbuettel: Beyond thrilled that two weeks from today, @Sondreus of the data team at @TheEconomist will guest lecture to the students…\n"
          ]
        }
      ]
    },
    {
      "cell_type": "code",
      "metadata": {
        "id": "fCzaMA-vzwjW"
      },
      "source": [
        ""
      ],
      "execution_count": null,
      "outputs": []
    },
    {
      "cell_type": "code",
      "metadata": {
        "id": "SL10pLmazweY"
      },
      "source": [
        ""
      ],
      "execution_count": null,
      "outputs": []
    },
    {
      "cell_type": "code",
      "metadata": {
        "id": "Otp1nzTszwP0"
      },
      "source": [
        ""
      ],
      "execution_count": null,
      "outputs": []
    },
    {
      "cell_type": "code",
      "metadata": {
        "id": "e0i5y_2sgFPe"
      },
      "source": [
        "new_search = \"cars\""
      ],
      "execution_count": 9,
      "outputs": []
    },
    {
      "cell_type": "code",
      "metadata": {
        "id": "0H_Wr-85gpNS"
      },
      "source": [
        ""
      ],
      "execution_count": null,
      "outputs": []
    },
    {
      "cell_type": "code",
      "metadata": {
        "id": "kapCsZcBgfnc"
      },
      "source": [
        "for tweet in tweepy.Cursor(api.search,q=new_search,count=100,\n",
        "                           lang=\"en\",\n",
        "                           since_id=0).items():\n",
        "    csvWriter.writerow([tweet.created_at, tweet.text.encode('utf-8'),tweet.user.screen_name.encode('utf-8'), tweet.user.location.encode('utf-8')])"
      ],
      "execution_count": null,
      "outputs": []
    },
    {
      "cell_type": "code",
      "metadata": {
        "id": "0imxAO7agxrt"
      },
      "source": [
        ""
      ],
      "execution_count": null,
      "outputs": []
    },
    {
      "cell_type": "code",
      "metadata": {
        "colab": {
          "base_uri": "https://localhost:8080/",
          "height": 132
        },
        "id": "Db_v3CKYf2ys",
        "outputId": "7377e388-4869-479b-8a6c-aa42e9532914"
      },
      "source": [
        "for tweet in tweepy.Cursor(api.search,q=new_search,count=100,\n",
        "                           lang=\"en\",\n",
        "                           since_id=0).items():\n",
        "    csvWriter.writerow([tweet.created_at, tweet.text.encode('utf-8'),tweet.user.screen_name.encode('utf-8'), tweet.user.location.encode('utf-8')])\n",
        "\n",
        "#We will now open a csv file in the append mode and write contents from twitter into this file.\n",
        "csvFile = open('file-name', 'a')\n",
        "csvWriter = csv.writer(csvFile)\n",
        "#5. Complete Code to Extract Tweets from Twitter using Python and Tweepy\n",
        "\n",
        "# The entire code looks like as shown below. You can execute this and find a csv file with all the data you want in the same working directory as your python file.\n",
        "from tweepy import *\n",
        " \n",
        "import pandas as pd\n",
        "import csv\n",
        "import re \n",
        "import string\n",
        "import preprocessor as p\n",
        " \n",
        "consumer_key = <enter your consumer key>\n",
        "consumer_secret = <enter key>\n",
        "access_key= <enter key>\n",
        "access_secret = <enter key>\n",
        " \n",
        "auth = tweepy.OAuthHandler(consumer_key, consumer_secret)\n",
        "auth.set_access_token(access_key, access_secret)\n",
        " \n",
        "api = tweepy.API(auth,wait_on_rate_limit=True)\n",
        " \n",
        "csvFile = open('file-name', 'a')\n",
        "csvWriter = csv.writer(csvFile)\n",
        " \n",
        "search_words = \"#\"      # enter your words\n",
        "new_search = search_words + \" -filter:retweets\"\n",
        " \n",
        "for tweet in tweepy.Cursor(api.search,q=new_search,count=100,\n",
        "                           lang=\"en\",\n",
        "                           since_id=0).items():\n",
        "    csvWriter.writerow([tweet.created_at, tweet.text.encode('utf-8'),tweet.user.screen_name.encode('utf-8'), tweet.user.location.encode('utf-8')])\n",
        "\n",
        "The output of the above code is a csv file which looks as follows:\n",
        "Image 22\n",
        "Output CSV file\n",
        "\n",
        "Kindly note, the output will vary based on the search keywords.\n",
        "Conclusion\n",
        "\n",
        "Thus, we have come to the end of this article and have tried retrieving some information from Tweepy. Hope you enjoy doing this! Do let us know your feedback in the comments section below.\n",
        "     \n",
        "Post navigation\n",
        "← Previous Post\n",
        "Next Post →\n",
        "Search for:\n",
        "Recent Posts\n",
        "\n",
        "    Python Tkinter Tutorial: Understanding the Tkinter Font Class\n",
        "    Pyspark Tutorial – A Beginner’s Reference [With 5 Easy Examples]\n",
        "    10 Indisputable Benefits of Learning Python\n",
        "    Why You Should Integrate Continuous Profiling in Your WorkFlow\n",
        "    Read Text Files Using Pandas – A Brief Reference\n",
        "    Pearson Correlation – Implementing Pearson Correlation in Python\n",
        "    FizzBuzz Problem – Implementing the FizzBuzz algorithm in Python\n",
        "    Quartile Deviation – Implementing in Python\n",
        "    Python Patchify – Extracting Patches from Large Images\n",
        "    Implement N-Grams using Python NLTK – A Step-By-Step Guide\n",
        "\n",
        "Favorite Sites\n",
        "\n",
        "    JournalDev\n",
        "    GoLangDocs\n",
        "    VM-Help\n",
        "    LinuxForDevices\n",
        "    MySQLCode\n",
        "    CodeForGeek\n",
        "\n"
      ],
      "execution_count": 13,
      "outputs": [
        {
          "output_type": "error",
          "ename": "SyntaxError",
          "evalue": "ignored",
          "traceback": [
            "\u001b[0;36m  File \u001b[0;32m\"<ipython-input-13-6df7015a75af>\"\u001b[0;36m, line \u001b[0;32m20\u001b[0m\n\u001b[0;31m    consumer_key = <enter your consumer key>\u001b[0m\n\u001b[0m                   ^\u001b[0m\n\u001b[0;31mSyntaxError\u001b[0m\u001b[0;31m:\u001b[0m invalid syntax\n"
          ]
        }
      ]
    },
    {
      "cell_type": "code",
      "metadata": {
        "id": "czAm0sORf2ub"
      },
      "source": [
        ""
      ],
      "execution_count": null,
      "outputs": []
    },
    {
      "cell_type": "code",
      "metadata": {
        "id": "fxSd6soEQtlY"
      },
      "source": [
        "for tweets in api.search_tweets(q=\"cars\", lang=\"en\"):\n",
        "    print(tweet.text)"
      ],
      "execution_count": null,
      "outputs": []
    },
    {
      "cell_type": "code",
      "metadata": {
        "id": "PpOX3Z3YfGcA"
      },
      "source": [
        ""
      ],
      "execution_count": null,
      "outputs": []
    },
    {
      "cell_type": "code",
      "metadata": {
        "id": "vgeK_zTaeHNV"
      },
      "source": [
        ""
      ],
      "execution_count": null,
      "outputs": []
    },
    {
      "cell_type": "code",
      "metadata": {
        "id": "m2z2QEfwd-28"
      },
      "source": [
        ""
      ],
      "execution_count": null,
      "outputs": []
    },
    {
      "cell_type": "code",
      "metadata": {
        "id": "-KpxhQjqd-xO"
      },
      "source": [
        ""
      ],
      "execution_count": null,
      "outputs": []
    },
    {
      "cell_type": "code",
      "metadata": {
        "id": "YemN59O9d-rx"
      },
      "source": [
        ""
      ],
      "execution_count": null,
      "outputs": []
    },
    {
      "cell_type": "code",
      "metadata": {
        "id": "UeOtbf7Hd-ms"
      },
      "source": [
        ""
      ],
      "execution_count": null,
      "outputs": []
    },
    {
      "cell_type": "code",
      "metadata": {
        "id": "TPykcmPgd-bE"
      },
      "source": [
        ""
      ],
      "execution_count": null,
      "outputs": []
    }
  ]
}