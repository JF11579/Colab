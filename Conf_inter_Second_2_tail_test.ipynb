{
  "nbformat": 4,
  "nbformat_minor": 0,
  "metadata": {
    "colab": {
      "name": "Conf_inter_Second 2 tail test.ipynb",
      "provenance": [],
      "collapsed_sections": [],
      "authorship_tag": "ABX9TyPqlRCqt9sDLGytTJNLZ8bF",
      "include_colab_link": true
    },
    "kernelspec": {
      "name": "ir",
      "display_name": "R"
    },
    "language_info": {
      "name": "R"
    }
  },
  "cells": [
    {
      "cell_type": "markdown",
      "metadata": {
        "id": "view-in-github",
        "colab_type": "text"
      },
      "source": [
        "<a href=\"https://colab.research.google.com/github/JF11579/Colab/blob/main/Conf_inter_Second_2_tail_test.ipynb\" target=\"_parent\"><img src=\"https://colab.research.google.com/assets/colab-badge.svg\" alt=\"Open In Colab\"/></a>"
      ]
    },
    {
      "cell_type": "code",
      "metadata": {
        "id": "hZAWqY_BNE1M"
      },
      "source": [
        "#your turn # 1 p 337\n",
        "#\n",
        "#Construct a 90% conf interval\n",
        "# that means 5% on either side of 90%\n",
        "#\n",
        "N <- 35\n",
        "sample_mean <- 247.8\n",
        "Pop_Std_Dev <- 39"
      ],
      "execution_count": 10,
      "outputs": []
    },
    {
      "cell_type": "code",
      "metadata": {
        "colab": {
          "base_uri": "https://localhost:8080/",
          "height": 100
        },
        "id": "P5YW5eW4OCei",
        "outputId": "8c1d95d6-2305-4cf3-c7de-453967edfb43"
      },
      "source": [
        "#your turn # 1 p 337\n",
        "#\n",
        "#Construct a 90% conf interval\n",
        "# that means 5% on either side of 90%\n",
        "\n",
        "N <- 35\n",
        "sample_mean <- 247.8\n",
        "Pop_Std_Dev <- 39\n",
        "\n",
        "\n",
        "root <- N^0.5\n",
        "root\n",
        "root_round <- round(root,2)\n",
        "paste(\"The rounded root is\",root_round )\n",
        "#\n",
        "#Next get standard erro of the mean\n",
        "Standard_Error_of_Mean <- Pop_Std_Dev / root_round\n",
        "Standard_Error_of_Mean\n",
        "rounded_Standard_Error_of_Mean <- round(Standard_Error_of_Mean,3)\n",
        "rounded_Standard_Error_of_Mean\n",
        "paste(\"The Standard Error of the Mean is\",rounded_Standard_Error_of_Mean)"
      ],
      "execution_count": 8,
      "outputs": [
        {
          "output_type": "display_data",
          "data": {
            "text/plain": [
              "[1] 5.91608"
            ],
            "text/latex": "5.91607978309962",
            "text/markdown": "5.91607978309962",
            "text/html": [
              "5.91607978309962"
            ]
          },
          "metadata": {}
        },
        {
          "output_type": "display_data",
          "data": {
            "text/plain": [
              "[1] \"The rounded root is 5.92\""
            ],
            "text/latex": "'The rounded root is 5.92'",
            "text/markdown": "'The rounded root is 5.92'",
            "text/html": [
              "'The rounded root is 5.92'"
            ]
          },
          "metadata": {}
        },
        {
          "output_type": "display_data",
          "data": {
            "text/plain": [
              "[1] 6.587838"
            ],
            "text/latex": "6.58783783783784",
            "text/markdown": "6.58783783783784",
            "text/html": [
              "6.58783783783784"
            ]
          },
          "metadata": {}
        },
        {
          "output_type": "display_data",
          "data": {
            "text/plain": [
              "[1] 6.588"
            ],
            "text/latex": "6.588",
            "text/markdown": "6.588",
            "text/html": [
              "6.588"
            ]
          },
          "metadata": {}
        },
        {
          "output_type": "display_data",
          "data": {
            "text/plain": [
              "[1] \"The Standard Error of the Mean is 6.588\""
            ],
            "text/latex": "'The Standard Error of the Mean is 6.588'",
            "text/markdown": "'The Standard Error of the Mean is 6.588'",
            "text/html": [
              "'The Standard Error of the Mean is 6.588'"
            ]
          },
          "metadata": {}
        }
      ]
    },
    {
      "cell_type": "markdown",
      "metadata": {
        "id": "oY9lCbbPPUWT"
      },
      "source": [
        "Find the Z score for 90%\n",
        "\n",
        "Prob 99% = 2.576\n",
        "\n",
        "Probability of 95% - z 1.96\n",
        "\n",
        "Prob 90% = z = 1.645\n",
        "\n",
        "Prob 85% = 1.036\n",
        "\n",
        "Prob 80 = 0.842 \n",
        "\n"
      ]
    },
    {
      "cell_type": "code",
      "metadata": {
        "colab": {
          "base_uri": "https://localhost:8080/",
          "height": 150
        },
        "id": "ifv0riZMOJL3",
        "outputId": "8b530395-c86e-4610-898a-ef86387b59c2"
      },
      "source": [
        "z_score <- 1.645\n",
        "rounded_Standard_Error_of_Mean\n",
        "sample_mean\n",
        "#\n",
        "ans <- z_score * rounded_Standard_Error_of_Mean\n",
        "ans\n",
        "ans_rounded <- round(ans,2)\n",
        "ans_rounded \n",
        "UCL <- sample_mean + ans_rounded\n",
        "UCL\n",
        "paste(\"The UCL is\", UCL)\n",
        "#\n",
        "############\n",
        "######. THE LCL ###########\n",
        "LCL <- sample_mean - ans_rounded\n",
        "LCL\n",
        "paste(\"The LCL is\", LCL)"
      ],
      "execution_count": 12,
      "outputs": [
        {
          "output_type": "display_data",
          "data": {
            "text/plain": [
              "[1] 6.588"
            ],
            "text/latex": "6.588",
            "text/markdown": "6.588",
            "text/html": [
              "6.588"
            ]
          },
          "metadata": {}
        },
        {
          "output_type": "display_data",
          "data": {
            "text/plain": [
              "[1] 247.8"
            ],
            "text/latex": "247.8",
            "text/markdown": "247.8",
            "text/html": [
              "247.8"
            ]
          },
          "metadata": {}
        },
        {
          "output_type": "display_data",
          "data": {
            "text/plain": [
              "[1] 10.83726"
            ],
            "text/latex": "10.83726",
            "text/markdown": "10.83726",
            "text/html": [
              "10.83726"
            ]
          },
          "metadata": {}
        },
        {
          "output_type": "display_data",
          "data": {
            "text/plain": [
              "[1] 10.84"
            ],
            "text/latex": "10.84",
            "text/markdown": "10.84",
            "text/html": [
              "10.84"
            ]
          },
          "metadata": {}
        },
        {
          "output_type": "display_data",
          "data": {
            "text/plain": [
              "[1] 258.64"
            ],
            "text/latex": "258.64",
            "text/markdown": "258.64",
            "text/html": [
              "258.64"
            ]
          },
          "metadata": {}
        },
        {
          "output_type": "display_data",
          "data": {
            "text/plain": [
              "[1] \"The UCL is 258.64\""
            ],
            "text/latex": "'The UCL is 258.64'",
            "text/markdown": "'The UCL is 258.64'",
            "text/html": [
              "'The UCL is 258.64'"
            ]
          },
          "metadata": {}
        },
        {
          "output_type": "display_data",
          "data": {
            "text/plain": [
              "[1] 236.96"
            ],
            "text/latex": "236.96",
            "text/markdown": "236.96",
            "text/html": [
              "236.96"
            ]
          },
          "metadata": {}
        },
        {
          "output_type": "display_data",
          "data": {
            "text/plain": [
              "[1] \"The LCL is 236.96\""
            ],
            "text/latex": "'The LCL is 236.96'",
            "text/markdown": "'The LCL is 236.96'",
            "text/html": [
              "'The LCL is 236.96'"
            ]
          },
          "metadata": {}
        }
      ]
    }
  ]
}